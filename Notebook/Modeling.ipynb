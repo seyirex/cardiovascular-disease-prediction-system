{
 "cells": [
  {
   "cell_type": "markdown",
   "metadata": {
    "papermill": {
     "duration": 0.0152,
     "end_time": "2020-09-05T11:56:04.010291",
     "exception": false,
     "start_time": "2020-09-05T11:56:03.995091",
     "status": "completed"
    },
    "tags": []
   },
   "source": [
    "# Modeling Notebook"
   ]
  },
  {
   "cell_type": "code",
   "execution_count": 1,
   "metadata": {
    "_kg_hide-input": true,
    "execution": {
     "iopub.execute_input": "2020-09-05T11:56:04.045413Z",
     "iopub.status.busy": "2020-09-05T11:56:04.044629Z",
     "iopub.status.idle": "2020-09-05T11:56:05.118575Z",
     "shell.execute_reply": "2020-09-05T11:56:05.117614Z"
    },
    "papermill": {
     "duration": 1.095019,
     "end_time": "2020-09-05T11:56:05.118730",
     "exception": false,
     "start_time": "2020-09-05T11:56:04.023711",
     "status": "completed"
    },
    "tags": []
   },
   "outputs": [],
   "source": [
    "#importing basic libraries\n",
    "import numpy as np\n",
    "import pandas as pd\n",
    "import matplotlib.pyplot as plt\n",
    "import seaborn as sns\n",
    "# Pycaret\n",
    "from pycaret.classification import *\n",
    "sns.set()\n",
    "import warnings\n",
    "warnings.filterwarnings('ignore')"
   ]
  },
  {
   "cell_type": "code",
   "execution_count": 2,
   "metadata": {},
   "outputs": [
    {
     "data": {
      "text/html": [
       "<div>\n",
       "<style scoped>\n",
       "    .dataframe tbody tr th:only-of-type {\n",
       "        vertical-align: middle;\n",
       "    }\n",
       "\n",
       "    .dataframe tbody tr th {\n",
       "        vertical-align: top;\n",
       "    }\n",
       "\n",
       "    .dataframe thead th {\n",
       "        text-align: right;\n",
       "    }\n",
       "</style>\n",
       "<table border=\"1\" class=\"dataframe\">\n",
       "  <thead>\n",
       "    <tr style=\"text-align: right;\">\n",
       "      <th></th>\n",
       "      <th>id</th>\n",
       "      <th>age</th>\n",
       "      <th>gender</th>\n",
       "      <th>height</th>\n",
       "      <th>weight</th>\n",
       "      <th>ap_hi</th>\n",
       "      <th>ap_lo</th>\n",
       "      <th>cholesterol</th>\n",
       "      <th>gluc</th>\n",
       "      <th>smoke</th>\n",
       "      <th>alco</th>\n",
       "      <th>active</th>\n",
       "      <th>cardio</th>\n",
       "    </tr>\n",
       "  </thead>\n",
       "  <tbody>\n",
       "    <tr>\n",
       "      <th>0</th>\n",
       "      <td>0</td>\n",
       "      <td>18393</td>\n",
       "      <td>2</td>\n",
       "      <td>168</td>\n",
       "      <td>62.0</td>\n",
       "      <td>110</td>\n",
       "      <td>80</td>\n",
       "      <td>1</td>\n",
       "      <td>1</td>\n",
       "      <td>0</td>\n",
       "      <td>0</td>\n",
       "      <td>1</td>\n",
       "      <td>0</td>\n",
       "    </tr>\n",
       "    <tr>\n",
       "      <th>1</th>\n",
       "      <td>1</td>\n",
       "      <td>20228</td>\n",
       "      <td>1</td>\n",
       "      <td>156</td>\n",
       "      <td>85.0</td>\n",
       "      <td>140</td>\n",
       "      <td>90</td>\n",
       "      <td>3</td>\n",
       "      <td>1</td>\n",
       "      <td>0</td>\n",
       "      <td>0</td>\n",
       "      <td>1</td>\n",
       "      <td>1</td>\n",
       "    </tr>\n",
       "    <tr>\n",
       "      <th>2</th>\n",
       "      <td>2</td>\n",
       "      <td>18857</td>\n",
       "      <td>1</td>\n",
       "      <td>165</td>\n",
       "      <td>64.0</td>\n",
       "      <td>130</td>\n",
       "      <td>70</td>\n",
       "      <td>3</td>\n",
       "      <td>1</td>\n",
       "      <td>0</td>\n",
       "      <td>0</td>\n",
       "      <td>0</td>\n",
       "      <td>1</td>\n",
       "    </tr>\n",
       "    <tr>\n",
       "      <th>3</th>\n",
       "      <td>3</td>\n",
       "      <td>17623</td>\n",
       "      <td>2</td>\n",
       "      <td>169</td>\n",
       "      <td>82.0</td>\n",
       "      <td>150</td>\n",
       "      <td>100</td>\n",
       "      <td>1</td>\n",
       "      <td>1</td>\n",
       "      <td>0</td>\n",
       "      <td>0</td>\n",
       "      <td>1</td>\n",
       "      <td>1</td>\n",
       "    </tr>\n",
       "    <tr>\n",
       "      <th>4</th>\n",
       "      <td>4</td>\n",
       "      <td>17474</td>\n",
       "      <td>1</td>\n",
       "      <td>156</td>\n",
       "      <td>56.0</td>\n",
       "      <td>100</td>\n",
       "      <td>60</td>\n",
       "      <td>1</td>\n",
       "      <td>1</td>\n",
       "      <td>0</td>\n",
       "      <td>0</td>\n",
       "      <td>0</td>\n",
       "      <td>0</td>\n",
       "    </tr>\n",
       "  </tbody>\n",
       "</table>\n",
       "</div>"
      ],
      "text/plain": [
       "   id    age  gender  height  weight  ap_hi  ap_lo  cholesterol  gluc  smoke  \\\n",
       "0   0  18393       2     168    62.0    110     80            1     1      0   \n",
       "1   1  20228       1     156    85.0    140     90            3     1      0   \n",
       "2   2  18857       1     165    64.0    130     70            3     1      0   \n",
       "3   3  17623       2     169    82.0    150    100            1     1      0   \n",
       "4   4  17474       1     156    56.0    100     60            1     1      0   \n",
       "\n",
       "   alco  active  cardio  \n",
       "0     0       1       0  \n",
       "1     0       1       1  \n",
       "2     0       0       1  \n",
       "3     0       1       1  \n",
       "4     0       0       0  "
      ]
     },
     "execution_count": 2,
     "metadata": {},
     "output_type": "execute_result"
    }
   ],
   "source": [
    "# Reading the dataset\n",
    "data = pd.read_csv('../dataset/cardio_train.csv',sep=';')\n",
    "# Check the data\n",
    "data.head()"
   ]
  },
  {
   "cell_type": "code",
   "execution_count": 38,
   "metadata": {},
   "outputs": [
    {
     "name": "stdout",
     "output_type": "stream",
     "text": [
      "age\n",
      "[50.4 55.4 51.6 48.2 47.8 60.  60.5 61.8 48.4 54.3 61.7 51.5 40.5 54.2\n",
      " 58.3 45.9 47.9 59.6 54.1 58.6 63.1 45.5 39.6 53.5 49.5 39.9 57.7 50.1\n",
      " 63.5 40.  56.5 60.1 55.9 50.2 49.2 64.  49.6 50.  58.8 56.3 49.8 50.7\n",
      " 46.2 43.9 49.9 53.6 39.7 53.9 62.3 43.5 52.3 52.4 54.  57.2 64.6 59.9\n",
      " 64.2 56.1 55.8 52.1 53.8 62.  53.3 63.6 51.3 62.5 52.7 59.8 47.5 40.2\n",
      " 46.6 42.3 63.8 57.9 51.8 60.4 39.2 49.7 59.2 53.4 60.2 56.  58.2 60.3\n",
      " 45.8 50.5 64.3 59.4 56.2 61.4 49.1 63.3 48.  41.8 56.4 61.9 58.  51.9\n",
      " 62.1 53.7 52.2 52.  42.  59.7 51.7 47.4 57.5 58.5 63.9 41.9 43.3 39.4\n",
      " 55.5 46.  44.  59.5 57.8 63.7 39.8 60.6 51.4 44.1 43.8 52.6 41.7 56.7\n",
      " 55.6 58.1 45.6 45.4 39.5 44.6 40.4 41.6 44.4 40.1 48.6 42.1 46.1 62.2\n",
      " 44.7 43.6 64.4 46.4 64.8 61.6 41.4 54.8 62.7 47.7 54.9 40.8 49.4 43.7\n",
      " 61.5 46.5 54.5 39.3 57.6 53.2 49.3 62.4 48.1 50.3 40.6 45.1 45.3 58.7\n",
      " 55.7 50.6 47.6 56.6 59.3 45.7 42.2 63.4 46.7 64.7 64.5 54.4 44.2 54.6\n",
      " 57.3 52.5 64.1 58.4 47.3 42.4 55.3 43.2 44.3 55.2 61.3 41.2 46.8 57.4\n",
      " 46.3 42.6 45.2 40.3 63.2 56.9 48.8 42.5 61.2 42.9 48.5 43.4 48.9 41.5\n",
      " 59.1 41.3 62.6 44.5 54.7 48.3 47.1 47.2 40.7 40.9 60.7 63.  57.1 41.\n",
      " 52.8 60.8 55.1 50.9 62.8 50.8 42.8 56.8 60.9 51.2 61.1 44.8 53.1 41.1\n",
      " 48.7 52.9 42.7 29.8 62.9 39.1 45.  51.1 43.1 58.9 51.  59.  64.9 29.6\n",
      " 61.  44.9 29.7 55.  53.  47.  46.9 30.  43.  49. ]\n",
      "262\n",
      "gender\n",
      "[0 1]\n",
      "2\n",
      "ap_hi\n",
      "[110 140 130 150 100 120 145 135 125 160 122 126 158 123 147 115 153 148\n",
      " 119 141 165 164 124 117 134 133 116 121 112 105 113 118 155 142 157 146\n",
      " 138 159 109 106 129 156 104 103 132 136 128 151 139 127 144 102 143 107\n",
      " 162 149 114 101 111 137 131 163 154 108 152 161]\n",
      "66\n",
      "ap_lo\n",
      "[ 80  90  70 100  60  85  65  89  63  79  84  91  78  75  87  95  74  82\n",
      "  97  81  73  83  69  77  92  68  61  94  66  99  76  86  96  93  67  88\n",
      "  72  98  71  64  62]\n",
      "41\n",
      "cholesterol\n",
      "['normal' 'well above normal' 'above normal']\n",
      "3\n",
      "smoke\n",
      "[0 1]\n",
      "2\n",
      "alco\n",
      "[0 1]\n",
      "2\n",
      "active\n",
      "[1 0]\n",
      "2\n",
      "cardio\n",
      "[0 1]\n",
      "2\n",
      "bmi\n",
      "[22.  34.9 23.5 28.7 23.  29.4 37.7 30.  28.4 25.3 28.  20.  31.2 26.\n",
      " 20.8 21.3 36.1 27.8 24.2 30.9 24.  25.9 43.7 24.9 23.7 28.5 27.4 20.7\n",
      " 31.  25.7 25.2 21.5 23.6 24.4 40.8 22.9 23.9 29.3 30.8 28.3 34.2 26.8\n",
      " 33.1 33.2 32.9 29.6 23.8 26.6 27.5 22.6 34.1 40.3 32.  38.3 25.4 21.2\n",
      " 34.6 25.5 20.9 27.3 27.6 17.8 30.1 35.2 25.1 29.2 22.8 29.  22.5 22.3\n",
      " 29.7 25.8 24.7 20.2 25.6 20.3 25.  27.1 26.2 27.7 28.9 30.5 32.1 28.8\n",
      " 23.4 33.3 22.4 31.8 21.6 23.2 33.5 26.9 19.3 17.3 18.6 29.1 24.3 26.3\n",
      " 40.  27.  34.4 26.7 24.1 32.8 24.6 34.8 38.2 31.1 36.7 41.3 29.8 21.\n",
      " 28.2 32.5 24.5 33.6 37.6 26.5 26.1 40.6 38.1 33.  22.7 21.7 38.4 31.6\n",
      " 29.5 24.8 32.4 32.7 27.2 20.4 33.9 27.9 36.2 39.  34.  35.4 30.4 30.7\n",
      " 33.7 21.8 28.1 21.9 21.1 21.4 35.6 26.4 20.1 33.8 17.6 39.1 23.1 32.3\n",
      " 41.1 35.9 35.5 32.2 39.9 42.3 31.4 35.7 31.7 31.3 35.1 37.1 35.8 23.3\n",
      " 38.8 28.6 34.5 36.3 35.3 22.1 19.6 34.7 43.1 22.2 36.9 31.5 31.9 20.6\n",
      " 30.2 19.5 32.6 34.3 36.  20.5 19.8 37.5 35.  39.8 38.6 36.4 37.9 30.6\n",
      " 41.6 39.5 36.6 30.3 29.9 39.4 19.4 19.  43.  42.1 43.6 36.5 44.4 37.8\n",
      " 19.7 18.4 41.7 39.2 37.  42.7 19.1 39.3 41.5 41.4 38.9 40.1 18.9 39.6\n",
      " 37.2 19.9 40.9 44.1 37.3 37.4 40.7 33.4 43.4 38.5 39.7 18.8 43.3 41.2\n",
      " 18.7 17.9 40.2 19.2 18.  40.5 18.5 17.2 36.8 45.2 44.3 41.8 42.8 44.\n",
      " 44.5 41.9 38.7 38.  42.5 40.4 45.6 44.9 42.2 17.7 45.4 41.  42.9 44.7\n",
      " 16.4 18.3 43.9 18.1 42.6 18.2 42.  17.4 17.  45.1 46.1 45.8 16.6 45.3\n",
      " 42.4 45.  45.9 17.1 46.9 46.7 17.5 16.  44.6]\n",
      "289\n",
      "glucose\n",
      "['normal' 'above normal' 'well above normal']\n",
      "3\n"
     ]
    }
   ],
   "source": [
    "# Remaining columns are having values like 'yes' and 'no'\n",
    "for i in data.columns:\n",
    "    print(i)\n",
    "    print(data[i].unique())\n",
    "    print(data[i].nunique())"
   ]
  },
  {
   "cell_type": "markdown",
   "metadata": {},
   "source": [
    "#  Data Preprocessing"
   ]
  },
  {
   "cell_type": "markdown",
   "metadata": {
    "papermill": {
     "duration": 0.013109,
     "end_time": "2020-09-05T11:56:05.242101",
     "exception": false,
     "start_time": "2020-09-05T11:56:05.228992",
     "status": "completed"
    },
    "tags": []
   },
   "source": [
    "* I will drop column 'id' as it is irrelevant to target variable.\n",
    "* Transform age column into years instead of days.\n",
    "* Gender feature should not be categorized into 1 and 2 because 2 is always numerically bigger than 1, the model would take into account that and give a bigger ratio to one gender for having a disease. So, I will make that binary.\n",
    "* I will check and drop duplicates.\n",
    "* i would check for outliars"
   ]
  },
  {
   "cell_type": "code",
   "execution_count": 3,
   "metadata": {
    "execution": {
     "iopub.execute_input": "2020-09-05T11:56:05.207639Z",
     "iopub.status.busy": "2020-09-05T11:56:05.206818Z",
     "iopub.status.idle": "2020-09-05T11:56:05.215084Z",
     "shell.execute_reply": "2020-09-05T11:56:05.214398Z"
    },
    "papermill": {
     "duration": 0.027825,
     "end_time": "2020-09-05T11:56:05.215227",
     "exception": false,
     "start_time": "2020-09-05T11:56:05.187402",
     "status": "completed"
    },
    "tags": []
   },
   "outputs": [
    {
     "name": "stdout",
     "output_type": "stream",
     "text": [
      "Missing values are present: False\n"
     ]
    }
   ],
   "source": [
    "# There is no mising value in the data.\n",
    "print(f\"Missing values are present: {data.isnull().sum().any()}\")"
   ]
  },
  {
   "cell_type": "code",
   "execution_count": 4,
   "metadata": {
    "execution": {
     "iopub.execute_input": "2020-09-05T11:56:05.285408Z",
     "iopub.status.busy": "2020-09-05T11:56:05.278641Z",
     "iopub.status.idle": "2020-09-05T11:56:05.314807Z",
     "shell.execute_reply": "2020-09-05T11:56:05.313937Z"
    },
    "papermill": {
     "duration": 0.059266,
     "end_time": "2020-09-05T11:56:05.314961",
     "exception": false,
     "start_time": "2020-09-05T11:56:05.255695",
     "status": "completed"
    },
    "tags": []
   },
   "outputs": [],
   "source": [
    "data.drop('id',axis=1,inplace=True)\n",
    "data.age = np.round(data.age/365.25,decimals=1)\n",
    "data.gender = data.gender.replace(2,0)"
   ]
  },
  {
   "cell_type": "code",
   "execution_count": 5,
   "metadata": {
    "execution": {
     "iopub.execute_input": "2020-09-05T11:56:05.351033Z",
     "iopub.status.busy": "2020-09-05T11:56:05.349903Z",
     "iopub.status.idle": "2020-09-05T11:56:05.377656Z",
     "shell.execute_reply": "2020-09-05T11:56:05.376883Z"
    },
    "papermill": {
     "duration": 0.049031,
     "end_time": "2020-09-05T11:56:05.377798",
     "exception": false,
     "start_time": "2020-09-05T11:56:05.328767",
     "status": "completed"
    },
    "tags": []
   },
   "outputs": [
    {
     "data": {
      "text/plain": [
       "674"
      ]
     },
     "execution_count": 5,
     "metadata": {},
     "output_type": "execute_result"
    }
   ],
   "source": [
    "data.duplicated().sum()"
   ]
  },
  {
   "cell_type": "code",
   "execution_count": 6,
   "metadata": {
    "execution": {
     "iopub.execute_input": "2020-09-05T11:56:05.413089Z",
     "iopub.status.busy": "2020-09-05T11:56:05.411983Z",
     "iopub.status.idle": "2020-09-05T11:56:05.441937Z",
     "shell.execute_reply": "2020-09-05T11:56:05.441087Z"
    },
    "papermill": {
     "duration": 0.050411,
     "end_time": "2020-09-05T11:56:05.442082",
     "exception": false,
     "start_time": "2020-09-05T11:56:05.391671",
     "status": "completed"
    },
    "tags": []
   },
   "outputs": [],
   "source": [
    "data.drop_duplicates(inplace=True)"
   ]
  },
  {
   "cell_type": "markdown",
   "metadata": {},
   "source": [
    "## Checking for Outliers"
   ]
  },
  {
   "cell_type": "code",
   "execution_count": 8,
   "metadata": {
    "_kg_hide-input": true,
    "execution": {
     "iopub.execute_input": "2020-09-05T11:56:06.101269Z",
     "iopub.status.busy": "2020-09-05T11:56:06.093854Z",
     "iopub.status.idle": "2020-09-05T11:56:06.390602Z",
     "shell.execute_reply": "2020-09-05T11:56:06.389948Z"
    },
    "papermill": {
     "duration": 0.326452,
     "end_time": "2020-09-05T11:56:06.390748",
     "exception": false,
     "start_time": "2020-09-05T11:56:06.064296",
     "status": "completed"
    },
    "tags": []
   },
   "outputs": [
    {
     "data": {
      "image/png": "[encoded data removed]",
      "text/plain": [
       "<Figure size 432x288 with 1 Axes>"
      ]
     },
     "metadata": {
      "needs_background": "light"
     },
     "output_type": "display_data"
    }
   ],
   "source": [
    "sns.set_style('dark')\n",
    "sns.boxplot(data.height,palette='pink')\n",
    "plt.title('Distribution of height');"
   ]
  },
  {
   "cell_type": "code",
   "execution_count": 9,
   "metadata": {
    "_kg_hide-input": true,
    "execution": {
     "iopub.execute_input": "2020-09-05T11:56:06.434977Z",
     "iopub.status.busy": "2020-09-05T11:56:06.428950Z",
     "iopub.status.idle": "2020-09-05T11:56:06.705892Z",
     "shell.execute_reply": "2020-09-05T11:56:06.706530Z"
    },
    "papermill": {
     "duration": 0.300848,
     "end_time": "2020-09-05T11:56:06.706719",
     "exception": false,
     "start_time": "2020-09-05T11:56:06.405871",
     "status": "completed"
    },
    "scrolled": true,
    "tags": []
   },
   "outputs": [
    {
     "data": {
      "image/png": "[encoded data removed]",
      "text/plain": [
       "<Figure size 432x288 with 1 Axes>"
      ]
     },
     "metadata": {},
     "output_type": "display_data"
    }
   ],
   "source": [
    "sns.set_style('white')\n",
    "sns.boxplot(data.weight,palette='terrain')\n",
    "plt.title('Distribution of weight');"
   ]
  },
  {
   "cell_type": "markdown",
   "metadata": {
    "papermill": {
     "duration": 0.014543,
     "end_time": "2020-09-05T11:56:06.736552",
     "exception": false,
     "start_time": "2020-09-05T11:56:06.722009",
     "status": "completed"
    },
    "tags": []
   },
   "source": [
    "I will remove extremely rare cases of height and weight. As data is quite big, there will be no problem while modelling."
   ]
  },
  {
   "cell_type": "code",
   "execution_count": 7,
   "metadata": {
    "execution": {
     "iopub.execute_input": "2020-09-05T11:56:06.774388Z",
     "iopub.status.busy": "2020-09-05T11:56:06.773069Z",
     "iopub.status.idle": "2020-09-05T11:56:06.785057Z",
     "shell.execute_reply": "2020-09-05T11:56:06.784375Z"
    },
    "papermill": {
     "duration": 0.033645,
     "end_time": "2020-09-05T11:56:06.785208",
     "exception": false,
     "start_time": "2020-09-05T11:56:06.751563",
     "status": "completed"
    },
    "tags": []
   },
   "outputs": [],
   "source": [
    "data.drop(data [(data ['height'] > data ['height'].quantile(0.975)) | (data ['height'] < data ['height'].quantile(0.025))].index,inplace=True)\n",
    "data.drop(data [(data ['weight'] > data ['weight'].quantile(0.975)) | (data ['weight'] < data ['weight'].quantile(0.025))].index,inplace=True)"
   ]
  },
  {
   "cell_type": "markdown",
   "metadata": {
    "papermill": {
     "duration": 0.014663,
     "end_time": "2020-09-05T11:56:06.815350",
     "exception": false,
     "start_time": "2020-09-05T11:56:06.800687",
     "status": "completed"
    },
    "tags": []
   },
   "source": [
    "There are many outliers in height and weight features. I combine both of these into a new feature bmi."
   ]
  },
  {
   "cell_type": "code",
   "execution_count": 8,
   "metadata": {
    "execution": {
     "iopub.execute_input": "2020-09-05T11:56:06.854313Z",
     "iopub.status.busy": "2020-09-05T11:56:06.853104Z",
     "iopub.status.idle": "2020-09-05T11:56:06.861107Z",
     "shell.execute_reply": "2020-09-05T11:56:06.860332Z"
    },
    "papermill": {
     "duration": 0.030665,
     "end_time": "2020-09-05T11:56:06.861255",
     "exception": false,
     "start_time": "2020-09-05T11:56:06.830590",
     "status": "completed"
    },
    "tags": []
   },
   "outputs": [],
   "source": [
    "data[\"bmi\"] = (data[\"weight\"]/ (data[\"height\"]/100)**2).round(1)"
   ]
  },
  {
   "cell_type": "markdown",
   "metadata": {
    "papermill": {
     "duration": 0.017004,
     "end_time": "2020-09-05T11:56:07.970263",
     "exception": false,
     "start_time": "2020-09-05T11:56:07.953259",
     "status": "completed"
    },
    "tags": []
   },
   "source": [
    "Now, I will remove outliers and abrupt blood pressure values."
   ]
  },
  {
   "cell_type": "code",
   "execution_count": 9,
   "metadata": {
    "execution": {
     "iopub.execute_input": "2020-09-05T11:56:08.109231Z",
     "iopub.status.busy": "2020-09-05T11:56:08.108270Z",
     "iopub.status.idle": "2020-09-05T11:56:08.134658Z",
     "shell.execute_reply": "2020-09-05T11:56:08.133537Z"
    },
    "papermill": {
     "duration": 0.051775,
     "end_time": "2020-09-05T11:56:08.134889",
     "exception": false,
     "start_time": "2020-09-05T11:56:08.083114",
     "status": "completed"
    },
    "tags": []
   },
   "outputs": [],
   "source": [
    "data.drop(data[(data['ap_hi'] > data['ap_hi'].quantile(0.975)) | (data['ap_hi'] < data['ap_hi'].quantile(0.025))].index,inplace=True)\n",
    "data.drop(data[(data['ap_lo'] > data['ap_lo'].quantile(0.975)) | (data['ap_lo'] < data['ap_lo'].quantile(0.025))].index,inplace=True)"
   ]
  },
  {
   "cell_type": "code",
   "execution_count": 10,
   "metadata": {
    "execution": {
     "iopub.execute_input": "2020-09-05T11:56:09.173913Z",
     "iopub.status.busy": "2020-09-05T11:56:09.173110Z",
     "iopub.status.idle": "2020-09-05T11:56:09.250135Z",
     "shell.execute_reply": "2020-09-05T11:56:09.249315Z"
    },
    "papermill": {
     "duration": 0.106474,
     "end_time": "2020-09-05T11:56:09.250275",
     "exception": false,
     "start_time": "2020-09-05T11:56:09.143801",
     "status": "completed"
    },
    "tags": []
   },
   "outputs": [
    {
     "data": {
      "text/html": [
       "<div>\n",
       "<style scoped>\n",
       "    .dataframe tbody tr th:only-of-type {\n",
       "        vertical-align: middle;\n",
       "    }\n",
       "\n",
       "    .dataframe tbody tr th {\n",
       "        vertical-align: top;\n",
       "    }\n",
       "\n",
       "    .dataframe thead th {\n",
       "        text-align: right;\n",
       "    }\n",
       "</style>\n",
       "<table border=\"1\" class=\"dataframe\">\n",
       "  <thead>\n",
       "    <tr style=\"text-align: right;\">\n",
       "      <th></th>\n",
       "      <th>age</th>\n",
       "      <th>gender</th>\n",
       "      <th>ap_hi</th>\n",
       "      <th>ap_lo</th>\n",
       "      <th>cholesterol</th>\n",
       "      <th>smoke</th>\n",
       "      <th>alco</th>\n",
       "      <th>active</th>\n",
       "      <th>cardio</th>\n",
       "      <th>bmi</th>\n",
       "      <th>glucose</th>\n",
       "    </tr>\n",
       "  </thead>\n",
       "  <tbody>\n",
       "    <tr>\n",
       "      <th>0</th>\n",
       "      <td>50.4</td>\n",
       "      <td>0</td>\n",
       "      <td>110</td>\n",
       "      <td>80</td>\n",
       "      <td>normal</td>\n",
       "      <td>0</td>\n",
       "      <td>0</td>\n",
       "      <td>1</td>\n",
       "      <td>0</td>\n",
       "      <td>22.0</td>\n",
       "      <td>normal</td>\n",
       "    </tr>\n",
       "    <tr>\n",
       "      <th>1</th>\n",
       "      <td>55.4</td>\n",
       "      <td>1</td>\n",
       "      <td>140</td>\n",
       "      <td>90</td>\n",
       "      <td>well above normal</td>\n",
       "      <td>0</td>\n",
       "      <td>0</td>\n",
       "      <td>1</td>\n",
       "      <td>1</td>\n",
       "      <td>34.9</td>\n",
       "      <td>normal</td>\n",
       "    </tr>\n",
       "    <tr>\n",
       "      <th>2</th>\n",
       "      <td>51.6</td>\n",
       "      <td>1</td>\n",
       "      <td>130</td>\n",
       "      <td>70</td>\n",
       "      <td>well above normal</td>\n",
       "      <td>0</td>\n",
       "      <td>0</td>\n",
       "      <td>0</td>\n",
       "      <td>1</td>\n",
       "      <td>23.5</td>\n",
       "      <td>normal</td>\n",
       "    </tr>\n",
       "    <tr>\n",
       "      <th>3</th>\n",
       "      <td>48.2</td>\n",
       "      <td>0</td>\n",
       "      <td>150</td>\n",
       "      <td>100</td>\n",
       "      <td>normal</td>\n",
       "      <td>0</td>\n",
       "      <td>0</td>\n",
       "      <td>1</td>\n",
       "      <td>1</td>\n",
       "      <td>28.7</td>\n",
       "      <td>normal</td>\n",
       "    </tr>\n",
       "    <tr>\n",
       "      <th>4</th>\n",
       "      <td>47.8</td>\n",
       "      <td>1</td>\n",
       "      <td>100</td>\n",
       "      <td>60</td>\n",
       "      <td>normal</td>\n",
       "      <td>0</td>\n",
       "      <td>0</td>\n",
       "      <td>0</td>\n",
       "      <td>0</td>\n",
       "      <td>23.0</td>\n",
       "      <td>normal</td>\n",
       "    </tr>\n",
       "  </tbody>\n",
       "</table>\n",
       "</div>"
      ],
      "text/plain": [
       "    age  gender  ap_hi  ap_lo        cholesterol  smoke  alco  active  cardio  \\\n",
       "0  50.4       0    110     80             normal      0     0       1       0   \n",
       "1  55.4       1    140     90  well above normal      0     0       1       1   \n",
       "2  51.6       1    130     70  well above normal      0     0       0       1   \n",
       "3  48.2       0    150    100             normal      0     0       1       1   \n",
       "4  47.8       1    100     60             normal      0     0       0       0   \n",
       "\n",
       "    bmi glucose  \n",
       "0  22.0  normal  \n",
       "1  34.9  normal  \n",
       "2  23.5  normal  \n",
       "3  28.7  normal  \n",
       "4  23.0  normal  "
      ]
     },
     "execution_count": 10,
     "metadata": {},
     "output_type": "execute_result"
    }
   ],
   "source": [
    "#creating dummy variables for categorical column\n",
    "data['cholesterol']=data['cholesterol'].map({ 1: 'normal', 2: 'above normal', 3: 'well above normal'})\n",
    "data['glucose']=data['gluc'].map({ 1: 'normal', 2: 'above normal', 3: 'well above normal'})\n",
    "data.drop(['height','weight','gluc'],axis=1,inplace=True)\n",
    "data.head()"
   ]
  },
  {
   "cell_type": "markdown",
   "metadata": {
    "papermill": {
     "duration": 0.026349,
     "end_time": "2020-09-05T11:56:11.896461",
     "exception": false,
     "start_time": "2020-09-05T11:56:11.870112",
     "status": "completed"
    },
    "tags": []
   },
   "source": [
    "### Modelling"
   ]
  },
  {
   "cell_type": "code",
   "execution_count": 11,
   "metadata": {
    "execution": {
     "iopub.execute_input": "2020-09-05T11:56:11.957871Z",
     "iopub.status.busy": "2020-09-05T11:56:11.956659Z",
     "iopub.status.idle": "2020-09-05T11:58:52.190726Z",
     "shell.execute_reply": "2020-09-05T11:58:52.191538Z"
    },
    "papermill": {
     "duration": 160.268464,
     "end_time": "2020-09-05T11:58:52.191787",
     "exception": false,
     "start_time": "2020-09-05T11:56:11.923323",
     "status": "completed"
    },
    "scrolled": true,
    "tags": []
   },
   "outputs": [
    {
     "name": "stdout",
     "output_type": "stream",
     "text": [
      "Data for Modeling: (59598, 11)\n",
      "-----------------------------------------------------------\n",
      "Unseen Data For Predictions: (5960, 10)\n",
      "-----------------------------------------------------------\n"
     ]
    }
   ],
   "source": [
    "dataset=data.sample(frac=0.9, random_state=20)\n",
    "data_unseen = data.drop(dataset.index)\n",
    "\n",
    "dataset.reset_index(drop=True, inplace=True)\n",
    "data_unseen.reset_index(drop=True, inplace=True)\n",
    "data_unseen.drop(columns=['cardio'],inplace=True)\n",
    "\n",
    "print('Data for Modeling: ' + str(data.shape))\n",
    "print(\"-----------------------------------------------------------\")\n",
    "print('Unseen Data For Predictions: ' + str(data_unseen.shape))\n",
    "print(\"-----------------------------------------------------------\")"
   ]
  },
  {
   "cell_type": "code",
   "execution_count": 12,
   "metadata": {},
   "outputs": [
    {
     "data": {
      "text/html": [
       "<style type=\"text/css\">\n",
       "#T_79576_row9_col1, #T_79576_row16_col1, #T_79576_row18_col1, #T_79576_row20_col1 {\n",
       "  background-color: lightgreen;\n",
       "}\n",
       "</style>\n",
       "<table id=\"T_79576\">\n",
       "  <thead>\n",
       "    <tr>\n",
       "      <th class=\"blank level0\" >&nbsp;</th>\n",
       "      <th id=\"T_79576_level0_col0\" class=\"col_heading level0 col0\" >Description</th>\n",
       "      <th id=\"T_79576_level0_col1\" class=\"col_heading level0 col1\" >Value</th>\n",
       "    </tr>\n",
       "  </thead>\n",
       "  <tbody>\n",
       "    <tr>\n",
       "      <th id=\"T_79576_level0_row0\" class=\"row_heading level0 row0\" >0</th>\n",
       "      <td id=\"T_79576_row0_col0\" class=\"data row0 col0\" >Session id</td>\n",
       "      <td id=\"T_79576_row0_col1\" class=\"data row0 col1\" >20</td>\n",
       "    </tr>\n",
       "    <tr>\n",
       "      <th id=\"T_79576_level0_row1\" class=\"row_heading level0 row1\" >1</th>\n",
       "      <td id=\"T_79576_row1_col0\" class=\"data row1 col0\" >Target</td>\n",
       "      <td id=\"T_79576_row1_col1\" class=\"data row1 col1\" >cardio</td>\n",
       "    </tr>\n",
       "    <tr>\n",
       "      <th id=\"T_79576_level0_row2\" class=\"row_heading level0 row2\" >2</th>\n",
       "      <td id=\"T_79576_row2_col0\" class=\"data row2 col0\" >Target type</td>\n",
       "      <td id=\"T_79576_row2_col1\" class=\"data row2 col1\" >Binary</td>\n",
       "    </tr>\n",
       "    <tr>\n",
       "      <th id=\"T_79576_level0_row3\" class=\"row_heading level0 row3\" >3</th>\n",
       "      <td id=\"T_79576_row3_col0\" class=\"data row3 col0\" >Original data shape</td>\n",
       "      <td id=\"T_79576_row3_col1\" class=\"data row3 col1\" >(53638, 11)</td>\n",
       "    </tr>\n",
       "    <tr>\n",
       "      <th id=\"T_79576_level0_row4\" class=\"row_heading level0 row4\" >4</th>\n",
       "      <td id=\"T_79576_row4_col0\" class=\"data row4 col0\" >Transformed data shape</td>\n",
       "      <td id=\"T_79576_row4_col1\" class=\"data row4 col1\" >(52022, 11)</td>\n",
       "    </tr>\n",
       "    <tr>\n",
       "      <th id=\"T_79576_level0_row5\" class=\"row_heading level0 row5\" >5</th>\n",
       "      <td id=\"T_79576_row5_col0\" class=\"data row5 col0\" >Transformed train set shape</td>\n",
       "      <td id=\"T_79576_row5_col1\" class=\"data row5 col1\" >(36010, 11)</td>\n",
       "    </tr>\n",
       "    <tr>\n",
       "      <th id=\"T_79576_level0_row6\" class=\"row_heading level0 row6\" >6</th>\n",
       "      <td id=\"T_79576_row6_col0\" class=\"data row6 col0\" >Transformed test set shape</td>\n",
       "      <td id=\"T_79576_row6_col1\" class=\"data row6 col1\" >(16092, 11)</td>\n",
       "    </tr>\n",
       "    <tr>\n",
       "      <th id=\"T_79576_level0_row7\" class=\"row_heading level0 row7\" >7</th>\n",
       "      <td id=\"T_79576_row7_col0\" class=\"data row7 col0\" >Numeric features</td>\n",
       "      <td id=\"T_79576_row7_col1\" class=\"data row7 col1\" >8</td>\n",
       "    </tr>\n",
       "    <tr>\n",
       "      <th id=\"T_79576_level0_row8\" class=\"row_heading level0 row8\" >8</th>\n",
       "      <td id=\"T_79576_row8_col0\" class=\"data row8 col0\" >Categorical features</td>\n",
       "      <td id=\"T_79576_row8_col1\" class=\"data row8 col1\" >2</td>\n",
       "    </tr>\n",
       "    <tr>\n",
       "      <th id=\"T_79576_level0_row9\" class=\"row_heading level0 row9\" >9</th>\n",
       "      <td id=\"T_79576_row9_col0\" class=\"data row9 col0\" >Preprocess</td>\n",
       "      <td id=\"T_79576_row9_col1\" class=\"data row9 col1\" >True</td>\n",
       "    </tr>\n",
       "    <tr>\n",
       "      <th id=\"T_79576_level0_row10\" class=\"row_heading level0 row10\" >10</th>\n",
       "      <td id=\"T_79576_row10_col0\" class=\"data row10 col0\" >Imputation type</td>\n",
       "      <td id=\"T_79576_row10_col1\" class=\"data row10 col1\" >simple</td>\n",
       "    </tr>\n",
       "    <tr>\n",
       "      <th id=\"T_79576_level0_row11\" class=\"row_heading level0 row11\" >11</th>\n",
       "      <td id=\"T_79576_row11_col0\" class=\"data row11 col0\" >Numeric imputation</td>\n",
       "      <td id=\"T_79576_row11_col1\" class=\"data row11 col1\" >mean</td>\n",
       "    </tr>\n",
       "    <tr>\n",
       "      <th id=\"T_79576_level0_row12\" class=\"row_heading level0 row12\" >12</th>\n",
       "      <td id=\"T_79576_row12_col0\" class=\"data row12 col0\" >Categorical imputation</td>\n",
       "      <td id=\"T_79576_row12_col1\" class=\"data row12 col1\" >constant</td>\n",
       "    </tr>\n",
       "    <tr>\n",
       "      <th id=\"T_79576_level0_row13\" class=\"row_heading level0 row13\" >13</th>\n",
       "      <td id=\"T_79576_row13_col0\" class=\"data row13 col0\" >Maximum one-hot encoding</td>\n",
       "      <td id=\"T_79576_row13_col1\" class=\"data row13 col1\" >5</td>\n",
       "    </tr>\n",
       "    <tr>\n",
       "      <th id=\"T_79576_level0_row14\" class=\"row_heading level0 row14\" >14</th>\n",
       "      <td id=\"T_79576_row14_col0\" class=\"data row14 col0\" >Encoding method</td>\n",
       "      <td id=\"T_79576_row14_col1\" class=\"data row14 col1\" >None</td>\n",
       "    </tr>\n",
       "    <tr>\n",
       "      <th id=\"T_79576_level0_row15\" class=\"row_heading level0 row15\" >15</th>\n",
       "      <td id=\"T_79576_row15_col0\" class=\"data row15 col0\" >Low variance threshold</td>\n",
       "      <td id=\"T_79576_row15_col1\" class=\"data row15 col1\" >0</td>\n",
       "    </tr>\n",
       "    <tr>\n",
       "      <th id=\"T_79576_level0_row16\" class=\"row_heading level0 row16\" >16</th>\n",
       "      <td id=\"T_79576_row16_col0\" class=\"data row16 col0\" >Remove multicollinearity</td>\n",
       "      <td id=\"T_79576_row16_col1\" class=\"data row16 col1\" >True</td>\n",
       "    </tr>\n",
       "    <tr>\n",
       "      <th id=\"T_79576_level0_row17\" class=\"row_heading level0 row17\" >17</th>\n",
       "      <td id=\"T_79576_row17_col0\" class=\"data row17 col0\" >Multicollinearity threshold</td>\n",
       "      <td id=\"T_79576_row17_col1\" class=\"data row17 col1\" >0.900000</td>\n",
       "    </tr>\n",
       "    <tr>\n",
       "      <th id=\"T_79576_level0_row18\" class=\"row_heading level0 row18\" >18</th>\n",
       "      <td id=\"T_79576_row18_col0\" class=\"data row18 col0\" >Remove outliers</td>\n",
       "      <td id=\"T_79576_row18_col1\" class=\"data row18 col1\" >True</td>\n",
       "    </tr>\n",
       "    <tr>\n",
       "      <th id=\"T_79576_level0_row19\" class=\"row_heading level0 row19\" >19</th>\n",
       "      <td id=\"T_79576_row19_col0\" class=\"data row19 col0\" >Outliers threshold</td>\n",
       "      <td id=\"T_79576_row19_col1\" class=\"data row19 col1\" >0.050000</td>\n",
       "    </tr>\n",
       "    <tr>\n",
       "      <th id=\"T_79576_level0_row20\" class=\"row_heading level0 row20\" >20</th>\n",
       "      <td id=\"T_79576_row20_col0\" class=\"data row20 col0\" >Feature selection</td>\n",
       "      <td id=\"T_79576_row20_col1\" class=\"data row20 col1\" >True</td>\n",
       "    </tr>\n",
       "    <tr>\n",
       "      <th id=\"T_79576_level0_row21\" class=\"row_heading level0 row21\" >21</th>\n",
       "      <td id=\"T_79576_row21_col0\" class=\"data row21 col0\" >Feature selection method</td>\n",
       "      <td id=\"T_79576_row21_col1\" class=\"data row21 col1\" >classic</td>\n",
       "    </tr>\n",
       "    <tr>\n",
       "      <th id=\"T_79576_level0_row22\" class=\"row_heading level0 row22\" >22</th>\n",
       "      <td id=\"T_79576_row22_col0\" class=\"data row22 col0\" >Feature selection estimator</td>\n",
       "      <td id=\"T_79576_row22_col1\" class=\"data row22 col1\" >lightgbm</td>\n",
       "    </tr>\n",
       "    <tr>\n",
       "      <th id=\"T_79576_level0_row23\" class=\"row_heading level0 row23\" >23</th>\n",
       "      <td id=\"T_79576_row23_col0\" class=\"data row23 col0\" >Number of features selected</td>\n",
       "      <td id=\"T_79576_row23_col1\" class=\"data row23 col1\" >10</td>\n",
       "    </tr>\n",
       "    <tr>\n",
       "      <th id=\"T_79576_level0_row24\" class=\"row_heading level0 row24\" >24</th>\n",
       "      <td id=\"T_79576_row24_col0\" class=\"data row24 col0\" >Fold Generator</td>\n",
       "      <td id=\"T_79576_row24_col1\" class=\"data row24 col1\" >StratifiedKFold</td>\n",
       "    </tr>\n",
       "    <tr>\n",
       "      <th id=\"T_79576_level0_row25\" class=\"row_heading level0 row25\" >25</th>\n",
       "      <td id=\"T_79576_row25_col0\" class=\"data row25 col0\" >Fold Number</td>\n",
       "      <td id=\"T_79576_row25_col1\" class=\"data row25 col1\" >10</td>\n",
       "    </tr>\n",
       "    <tr>\n",
       "      <th id=\"T_79576_level0_row26\" class=\"row_heading level0 row26\" >26</th>\n",
       "      <td id=\"T_79576_row26_col0\" class=\"data row26 col0\" >CPU Jobs</td>\n",
       "      <td id=\"T_79576_row26_col1\" class=\"data row26 col1\" >-1</td>\n",
       "    </tr>\n",
       "    <tr>\n",
       "      <th id=\"T_79576_level0_row27\" class=\"row_heading level0 row27\" >27</th>\n",
       "      <td id=\"T_79576_row27_col0\" class=\"data row27 col0\" >Use GPU</td>\n",
       "      <td id=\"T_79576_row27_col1\" class=\"data row27 col1\" >False</td>\n",
       "    </tr>\n",
       "    <tr>\n",
       "      <th id=\"T_79576_level0_row28\" class=\"row_heading level0 row28\" >28</th>\n",
       "      <td id=\"T_79576_row28_col0\" class=\"data row28 col0\" >Log Experiment</td>\n",
       "      <td id=\"T_79576_row28_col1\" class=\"data row28 col1\" >False</td>\n",
       "    </tr>\n",
       "    <tr>\n",
       "      <th id=\"T_79576_level0_row29\" class=\"row_heading level0 row29\" >29</th>\n",
       "      <td id=\"T_79576_row29_col0\" class=\"data row29 col0\" >Experiment Name</td>\n",
       "      <td id=\"T_79576_row29_col1\" class=\"data row29 col1\" >clf-default-name</td>\n",
       "    </tr>\n",
       "    <tr>\n",
       "      <th id=\"T_79576_level0_row30\" class=\"row_heading level0 row30\" >30</th>\n",
       "      <td id=\"T_79576_row30_col0\" class=\"data row30 col0\" >USI</td>\n",
       "      <td id=\"T_79576_row30_col1\" class=\"data row30 col1\" >035c</td>\n",
       "    </tr>\n",
       "  </tbody>\n",
       "</table>\n"
      ],
      "text/plain": [
       "<pandas.io.formats.style.Styler at 0x13eed6cf6d0>"
      ]
     },
     "metadata": {},
     "output_type": "display_data"
    }
   ],
   "source": [
    "exp01 = setup(data=dataset, \n",
    "              target=\"cardio\", \n",
    "              session_id=20, \n",
    "              feature_selection=True, \n",
    "              remove_outliers=True,\n",
    "              remove_multicollinearity=True,\n",
    "                )"
   ]
  },
  {
   "cell_type": "code",
   "execution_count": 19,
   "metadata": {},
   "outputs": [
    {
     "data": {
      "text/html": [],
      "text/plain": [
       "<IPython.core.display.HTML object>"
      ]
     },
     "metadata": {},
     "output_type": "display_data"
    },
    {
     "data": {
      "text/html": [
       "<style type=\"text/css\">\n",
       "#T_6678b th {\n",
       "  text-align: left;\n",
       "}\n",
       "#T_6678b_row0_col0, #T_6678b_row0_col3, #T_6678b_row0_col4, #T_6678b_row1_col0, #T_6678b_row1_col1, #T_6678b_row1_col2, #T_6678b_row1_col3, #T_6678b_row1_col4, #T_6678b_row1_col5, #T_6678b_row1_col6, #T_6678b_row1_col7, #T_6678b_row2_col0, #T_6678b_row2_col1, #T_6678b_row2_col2, #T_6678b_row2_col3, #T_6678b_row2_col4, #T_6678b_row2_col5, #T_6678b_row2_col6, #T_6678b_row2_col7, #T_6678b_row3_col0, #T_6678b_row3_col1, #T_6678b_row3_col2, #T_6678b_row3_col3, #T_6678b_row3_col5, #T_6678b_row3_col6, #T_6678b_row3_col7, #T_6678b_row4_col0, #T_6678b_row4_col1, #T_6678b_row4_col2, #T_6678b_row4_col3, #T_6678b_row4_col4, #T_6678b_row4_col5, #T_6678b_row4_col6, #T_6678b_row4_col7, #T_6678b_row5_col0, #T_6678b_row5_col1, #T_6678b_row5_col2, #T_6678b_row5_col3, #T_6678b_row5_col4, #T_6678b_row5_col5, #T_6678b_row5_col6, #T_6678b_row5_col7, #T_6678b_row6_col0, #T_6678b_row6_col1, #T_6678b_row6_col2, #T_6678b_row6_col3, #T_6678b_row6_col4, #T_6678b_row6_col5, #T_6678b_row6_col6, #T_6678b_row6_col7, #T_6678b_row7_col0, #T_6678b_row7_col1, #T_6678b_row7_col2, #T_6678b_row7_col3, #T_6678b_row7_col4, #T_6678b_row7_col5, #T_6678b_row7_col6, #T_6678b_row7_col7, #T_6678b_row8_col0, #T_6678b_row8_col1, #T_6678b_row8_col2, #T_6678b_row8_col3, #T_6678b_row8_col4, #T_6678b_row8_col5, #T_6678b_row8_col6, #T_6678b_row8_col7, #T_6678b_row9_col0, #T_6678b_row9_col1, #T_6678b_row9_col2, #T_6678b_row9_col3, #T_6678b_row9_col4, #T_6678b_row9_col5, #T_6678b_row9_col6, #T_6678b_row9_col7, #T_6678b_row10_col0, #T_6678b_row10_col1, #T_6678b_row10_col2, #T_6678b_row10_col3, #T_6678b_row10_col4, #T_6678b_row10_col5, #T_6678b_row10_col6, #T_6678b_row10_col7, #T_6678b_row11_col0, #T_6678b_row11_col1, #T_6678b_row11_col2, #T_6678b_row11_col3, #T_6678b_row11_col4, #T_6678b_row11_col5, #T_6678b_row11_col6, #T_6678b_row11_col7, #T_6678b_row12_col0, #T_6678b_row12_col1, #T_6678b_row12_col2, #T_6678b_row12_col3, #T_6678b_row12_col4, #T_6678b_row12_col5, #T_6678b_row12_col6, #T_6678b_row12_col7, #T_6678b_row13_col0, #T_6678b_row13_col1, #T_6678b_row13_col2, #T_6678b_row13_col4, #T_6678b_row13_col5, #T_6678b_row13_col6, #T_6678b_row13_col7, #T_6678b_row14_col0, #T_6678b_row14_col1, #T_6678b_row14_col2, #T_6678b_row14_col3, #T_6678b_row14_col4, #T_6678b_row14_col5, #T_6678b_row14_col6, #T_6678b_row14_col7, #T_6678b_row15_col0, #T_6678b_row15_col1, #T_6678b_row15_col2, #T_6678b_row15_col3, #T_6678b_row15_col4, #T_6678b_row15_col5, #T_6678b_row15_col6, #T_6678b_row15_col7 {\n",
       "  text-align: left;\n",
       "}\n",
       "#T_6678b_row0_col1, #T_6678b_row0_col2, #T_6678b_row0_col5, #T_6678b_row0_col6, #T_6678b_row0_col7, #T_6678b_row3_col4, #T_6678b_row13_col3 {\n",
       "  text-align: left;\n",
       "  background-color: yellow;\n",
       "}\n",
       "#T_6678b_row0_col8, #T_6678b_row1_col8, #T_6678b_row2_col8, #T_6678b_row3_col8, #T_6678b_row4_col8, #T_6678b_row5_col8, #T_6678b_row7_col8, #T_6678b_row8_col8, #T_6678b_row9_col8, #T_6678b_row10_col8, #T_6678b_row11_col8, #T_6678b_row12_col8, #T_6678b_row13_col8, #T_6678b_row14_col8, #T_6678b_row15_col8 {\n",
       "  text-align: left;\n",
       "  background-color: lightgrey;\n",
       "}\n",
       "#T_6678b_row6_col8 {\n",
       "  text-align: left;\n",
       "  background-color: yellow;\n",
       "  background-color: lightgrey;\n",
       "}\n",
       "</style>\n",
       "<table id=\"T_6678b\">\n",
       "  <thead>\n",
       "    <tr>\n",
       "      <th class=\"blank level0\" >&nbsp;</th>\n",
       "      <th id=\"T_6678b_level0_col0\" class=\"col_heading level0 col0\" >Model</th>\n",
       "      <th id=\"T_6678b_level0_col1\" class=\"col_heading level0 col1\" >Accuracy</th>\n",
       "      <th id=\"T_6678b_level0_col2\" class=\"col_heading level0 col2\" >AUC</th>\n",
       "      <th id=\"T_6678b_level0_col3\" class=\"col_heading level0 col3\" >Recall</th>\n",
       "      <th id=\"T_6678b_level0_col4\" class=\"col_heading level0 col4\" >Prec.</th>\n",
       "      <th id=\"T_6678b_level0_col5\" class=\"col_heading level0 col5\" >F1</th>\n",
       "      <th id=\"T_6678b_level0_col6\" class=\"col_heading level0 col6\" >Kappa</th>\n",
       "      <th id=\"T_6678b_level0_col7\" class=\"col_heading level0 col7\" >MCC</th>\n",
       "      <th id=\"T_6678b_level0_col8\" class=\"col_heading level0 col8\" >TT (Sec)</th>\n",
       "    </tr>\n",
       "  </thead>\n",
       "  <tbody>\n",
       "    <tr>\n",
       "      <th id=\"T_6678b_level0_row0\" class=\"row_heading level0 row0\" >gbc</th>\n",
       "      <td id=\"T_6678b_row0_col0\" class=\"data row0 col0\" >Gradient Boosting Classifier</td>\n",
       "      <td id=\"T_6678b_row0_col1\" class=\"data row0 col1\" >0.7258</td>\n",
       "      <td id=\"T_6678b_row0_col2\" class=\"data row0 col2\" >0.7905</td>\n",
       "      <td id=\"T_6678b_row0_col3\" class=\"data row0 col3\" >0.6789</td>\n",
       "      <td id=\"T_6678b_row0_col4\" class=\"data row0 col4\" >0.7409</td>\n",
       "      <td id=\"T_6678b_row0_col5\" class=\"data row0 col5\" >0.7085</td>\n",
       "      <td id=\"T_6678b_row0_col6\" class=\"data row0 col6\" >0.4506</td>\n",
       "      <td id=\"T_6678b_row0_col7\" class=\"data row0 col7\" >0.4522</td>\n",
       "      <td id=\"T_6678b_row0_col8\" class=\"data row0 col8\" >0.8120</td>\n",
       "    </tr>\n",
       "    <tr>\n",
       "      <th id=\"T_6678b_level0_row1\" class=\"row_heading level0 row1\" >lightgbm</th>\n",
       "      <td id=\"T_6678b_row1_col0\" class=\"data row1 col0\" >Light Gradient Boosting Machine</td>\n",
       "      <td id=\"T_6678b_row1_col1\" class=\"data row1 col1\" >0.7245</td>\n",
       "      <td id=\"T_6678b_row1_col2\" class=\"data row1 col2\" >0.7877</td>\n",
       "      <td id=\"T_6678b_row1_col3\" class=\"data row1 col3\" >0.6715</td>\n",
       "      <td id=\"T_6678b_row1_col4\" class=\"data row1 col4\" >0.7427</td>\n",
       "      <td id=\"T_6678b_row1_col5\" class=\"data row1 col5\" >0.7053</td>\n",
       "      <td id=\"T_6678b_row1_col6\" class=\"data row1 col6\" >0.4479</td>\n",
       "      <td id=\"T_6678b_row1_col7\" class=\"data row1 col7\" >0.4500</td>\n",
       "      <td id=\"T_6678b_row1_col8\" class=\"data row1 col8\" >0.3040</td>\n",
       "    </tr>\n",
       "    <tr>\n",
       "      <th id=\"T_6678b_level0_row2\" class=\"row_heading level0 row2\" >catboost</th>\n",
       "      <td id=\"T_6678b_row2_col0\" class=\"data row2 col0\" >CatBoost Classifier</td>\n",
       "      <td id=\"T_6678b_row2_col1\" class=\"data row2 col1\" >0.7234</td>\n",
       "      <td id=\"T_6678b_row2_col2\" class=\"data row2 col2\" >0.7877</td>\n",
       "      <td id=\"T_6678b_row2_col3\" class=\"data row2 col3\" >0.6713</td>\n",
       "      <td id=\"T_6678b_row2_col4\" class=\"data row2 col4\" >0.7410</td>\n",
       "      <td id=\"T_6678b_row2_col5\" class=\"data row2 col5\" >0.7044</td>\n",
       "      <td id=\"T_6678b_row2_col6\" class=\"data row2 col6\" >0.4457</td>\n",
       "      <td id=\"T_6678b_row2_col7\" class=\"data row2 col7\" >0.4477</td>\n",
       "      <td id=\"T_6678b_row2_col8\" class=\"data row2 col8\" >5.8580</td>\n",
       "    </tr>\n",
       "    <tr>\n",
       "      <th id=\"T_6678b_level0_row3\" class=\"row_heading level0 row3\" >ada</th>\n",
       "      <td id=\"T_6678b_row3_col0\" class=\"data row3 col0\" >Ada Boost Classifier</td>\n",
       "      <td id=\"T_6678b_row3_col1\" class=\"data row3 col1\" >0.7220</td>\n",
       "      <td id=\"T_6678b_row3_col2\" class=\"data row3 col2\" >0.7846</td>\n",
       "      <td id=\"T_6678b_row3_col3\" class=\"data row3 col3\" >0.6377</td>\n",
       "      <td id=\"T_6678b_row3_col4\" class=\"data row3 col4\" >0.7577</td>\n",
       "      <td id=\"T_6678b_row3_col5\" class=\"data row3 col5\" >0.6925</td>\n",
       "      <td id=\"T_6678b_row3_col6\" class=\"data row3 col6\" >0.4423</td>\n",
       "      <td id=\"T_6678b_row3_col7\" class=\"data row3 col7\" >0.4478</td>\n",
       "      <td id=\"T_6678b_row3_col8\" class=\"data row3 col8\" >0.4440</td>\n",
       "    </tr>\n",
       "    <tr>\n",
       "      <th id=\"T_6678b_level0_row4\" class=\"row_heading level0 row4\" >lr</th>\n",
       "      <td id=\"T_6678b_row4_col0\" class=\"data row4 col0\" >Logistic Regression</td>\n",
       "      <td id=\"T_6678b_row4_col1\" class=\"data row4 col1\" >0.7201</td>\n",
       "      <td id=\"T_6678b_row4_col2\" class=\"data row4 col2\" >0.7820</td>\n",
       "      <td id=\"T_6678b_row4_col3\" class=\"data row4 col3\" >0.6504</td>\n",
       "      <td id=\"T_6678b_row4_col4\" class=\"data row4 col4\" >0.7468</td>\n",
       "      <td id=\"T_6678b_row4_col5\" class=\"data row4 col5\" >0.6952</td>\n",
       "      <td id=\"T_6678b_row4_col6\" class=\"data row4 col6\" >0.4388</td>\n",
       "      <td id=\"T_6678b_row4_col7\" class=\"data row4 col7\" >0.4424</td>\n",
       "      <td id=\"T_6678b_row4_col8\" class=\"data row4 col8\" >0.7940</td>\n",
       "    </tr>\n",
       "    <tr>\n",
       "      <th id=\"T_6678b_level0_row5\" class=\"row_heading level0 row5\" >lda</th>\n",
       "      <td id=\"T_6678b_row5_col0\" class=\"data row5 col0\" >Linear Discriminant Analysis</td>\n",
       "      <td id=\"T_6678b_row5_col1\" class=\"data row5 col1\" >0.7191</td>\n",
       "      <td id=\"T_6678b_row5_col2\" class=\"data row5 col2\" >0.7820</td>\n",
       "      <td id=\"T_6678b_row5_col3\" class=\"data row5 col3\" >0.6392</td>\n",
       "      <td id=\"T_6678b_row5_col4\" class=\"data row5 col4\" >0.7514</td>\n",
       "      <td id=\"T_6678b_row5_col5\" class=\"data row5 col5\" >0.6908</td>\n",
       "      <td id=\"T_6678b_row5_col6\" class=\"data row5 col6\" >0.4364</td>\n",
       "      <td id=\"T_6678b_row5_col7\" class=\"data row5 col7\" >0.4412</td>\n",
       "      <td id=\"T_6678b_row5_col8\" class=\"data row5 col8\" >0.2540</td>\n",
       "    </tr>\n",
       "    <tr>\n",
       "      <th id=\"T_6678b_level0_row6\" class=\"row_heading level0 row6\" >ridge</th>\n",
       "      <td id=\"T_6678b_row6_col0\" class=\"data row6 col0\" >Ridge Classifier</td>\n",
       "      <td id=\"T_6678b_row6_col1\" class=\"data row6 col1\" >0.7190</td>\n",
       "      <td id=\"T_6678b_row6_col2\" class=\"data row6 col2\" >0.0000</td>\n",
       "      <td id=\"T_6678b_row6_col3\" class=\"data row6 col3\" >0.6391</td>\n",
       "      <td id=\"T_6678b_row6_col4\" class=\"data row6 col4\" >0.7513</td>\n",
       "      <td id=\"T_6678b_row6_col5\" class=\"data row6 col5\" >0.6907</td>\n",
       "      <td id=\"T_6678b_row6_col6\" class=\"data row6 col6\" >0.4363</td>\n",
       "      <td id=\"T_6678b_row6_col7\" class=\"data row6 col7\" >0.4411</td>\n",
       "      <td id=\"T_6678b_row6_col8\" class=\"data row6 col8\" >0.1480</td>\n",
       "    </tr>\n",
       "    <tr>\n",
       "      <th id=\"T_6678b_level0_row7\" class=\"row_heading level0 row7\" >xgboost</th>\n",
       "      <td id=\"T_6678b_row7_col0\" class=\"data row7 col0\" >Extreme Gradient Boosting</td>\n",
       "      <td id=\"T_6678b_row7_col1\" class=\"data row7 col1\" >0.7176</td>\n",
       "      <td id=\"T_6678b_row7_col2\" class=\"data row7 col2\" >0.7788</td>\n",
       "      <td id=\"T_6678b_row7_col3\" class=\"data row7 col3\" >0.6647</td>\n",
       "      <td id=\"T_6678b_row7_col4\" class=\"data row7 col4\" >0.7348</td>\n",
       "      <td id=\"T_6678b_row7_col5\" class=\"data row7 col5\" >0.6980</td>\n",
       "      <td id=\"T_6678b_row7_col6\" class=\"data row7 col6\" >0.4340</td>\n",
       "      <td id=\"T_6678b_row7_col7\" class=\"data row7 col7\" >0.4360</td>\n",
       "      <td id=\"T_6678b_row7_col8\" class=\"data row7 col8\" >0.8400</td>\n",
       "    </tr>\n",
       "    <tr>\n",
       "      <th id=\"T_6678b_level0_row8\" class=\"row_heading level0 row8\" >nb</th>\n",
       "      <td id=\"T_6678b_row8_col0\" class=\"data row8 col0\" >Naive Bayes</td>\n",
       "      <td id=\"T_6678b_row8_col1\" class=\"data row8 col1\" >0.7003</td>\n",
       "      <td id=\"T_6678b_row8_col2\" class=\"data row8 col2\" >0.7570</td>\n",
       "      <td id=\"T_6678b_row8_col3\" class=\"data row8 col3\" >0.5903</td>\n",
       "      <td id=\"T_6678b_row8_col4\" class=\"data row8 col4\" >0.7463</td>\n",
       "      <td id=\"T_6678b_row8_col5\" class=\"data row8 col5\" >0.6591</td>\n",
       "      <td id=\"T_6678b_row8_col6\" class=\"data row8 col6\" >0.3981</td>\n",
       "      <td id=\"T_6678b_row8_col7\" class=\"data row8 col7\" >0.4069</td>\n",
       "      <td id=\"T_6678b_row8_col8\" class=\"data row8 col8\" >0.1940</td>\n",
       "    </tr>\n",
       "    <tr>\n",
       "      <th id=\"T_6678b_level0_row9\" class=\"row_heading level0 row9\" >qda</th>\n",
       "      <td id=\"T_6678b_row9_col0\" class=\"data row9 col0\" >Quadratic Discriminant Analysis</td>\n",
       "      <td id=\"T_6678b_row9_col1\" class=\"data row9 col1\" >0.6912</td>\n",
       "      <td id=\"T_6678b_row9_col2\" class=\"data row9 col2\" >0.7469</td>\n",
       "      <td id=\"T_6678b_row9_col3\" class=\"data row9 col3\" >0.5777</td>\n",
       "      <td id=\"T_6678b_row9_col4\" class=\"data row9 col4\" >0.7364</td>\n",
       "      <td id=\"T_6678b_row9_col5\" class=\"data row9 col5\" >0.6471</td>\n",
       "      <td id=\"T_6678b_row9_col6\" class=\"data row9 col6\" >0.3799</td>\n",
       "      <td id=\"T_6678b_row9_col7\" class=\"data row9 col7\" >0.3889</td>\n",
       "      <td id=\"T_6678b_row9_col8\" class=\"data row9 col8\" >0.1860</td>\n",
       "    </tr>\n",
       "    <tr>\n",
       "      <th id=\"T_6678b_level0_row10\" class=\"row_heading level0 row10\" >rf</th>\n",
       "      <td id=\"T_6678b_row10_col0\" class=\"data row10 col0\" >Random Forest Classifier</td>\n",
       "      <td id=\"T_6678b_row10_col1\" class=\"data row10 col1\" >0.6848</td>\n",
       "      <td id=\"T_6678b_row10_col2\" class=\"data row10 col2\" >0.7395</td>\n",
       "      <td id=\"T_6678b_row10_col3\" class=\"data row10 col3\" >0.6696</td>\n",
       "      <td id=\"T_6678b_row10_col4\" class=\"data row10 col4\" >0.6824</td>\n",
       "      <td id=\"T_6678b_row10_col5\" class=\"data row10 col5\" >0.6759</td>\n",
       "      <td id=\"T_6678b_row10_col6\" class=\"data row10 col6\" >0.3692</td>\n",
       "      <td id=\"T_6678b_row10_col7\" class=\"data row10 col7\" >0.3693</td>\n",
       "      <td id=\"T_6678b_row10_col8\" class=\"data row10 col8\" >0.8780</td>\n",
       "    </tr>\n",
       "    <tr>\n",
       "      <th id=\"T_6678b_level0_row11\" class=\"row_heading level0 row11\" >knn</th>\n",
       "      <td id=\"T_6678b_row11_col0\" class=\"data row11 col0\" >K Neighbors Classifier</td>\n",
       "      <td id=\"T_6678b_row11_col1\" class=\"data row11 col1\" >0.6835</td>\n",
       "      <td id=\"T_6678b_row11_col2\" class=\"data row11 col2\" >0.7291</td>\n",
       "      <td id=\"T_6678b_row11_col3\" class=\"data row11 col3\" >0.6527</td>\n",
       "      <td id=\"T_6678b_row11_col4\" class=\"data row11 col4\" >0.6870</td>\n",
       "      <td id=\"T_6678b_row11_col5\" class=\"data row11 col5\" >0.6694</td>\n",
       "      <td id=\"T_6678b_row11_col6\" class=\"data row11 col6\" >0.3662</td>\n",
       "      <td id=\"T_6678b_row11_col7\" class=\"data row11 col7\" >0.3667</td>\n",
       "      <td id=\"T_6678b_row11_col8\" class=\"data row11 col8\" >0.5040</td>\n",
       "    </tr>\n",
       "    <tr>\n",
       "      <th id=\"T_6678b_level0_row12\" class=\"row_heading level0 row12\" >et</th>\n",
       "      <td id=\"T_6678b_row12_col0\" class=\"data row12 col0\" >Extra Trees Classifier</td>\n",
       "      <td id=\"T_6678b_row12_col1\" class=\"data row12 col1\" >0.6681</td>\n",
       "      <td id=\"T_6678b_row12_col2\" class=\"data row12 col2\" >0.7132</td>\n",
       "      <td id=\"T_6678b_row12_col3\" class=\"data row12 col3\" >0.6566</td>\n",
       "      <td id=\"T_6678b_row12_col4\" class=\"data row12 col4\" >0.6637</td>\n",
       "      <td id=\"T_6678b_row12_col5\" class=\"data row12 col5\" >0.6601</td>\n",
       "      <td id=\"T_6678b_row12_col6\" class=\"data row12 col6\" >0.3359</td>\n",
       "      <td id=\"T_6678b_row12_col7\" class=\"data row12 col7\" >0.3359</td>\n",
       "      <td id=\"T_6678b_row12_col8\" class=\"data row12 col8\" >1.1260</td>\n",
       "    </tr>\n",
       "    <tr>\n",
       "      <th id=\"T_6678b_level0_row13\" class=\"row_heading level0 row13\" >svm</th>\n",
       "      <td id=\"T_6678b_row13_col0\" class=\"data row13 col0\" >SVM - Linear Kernel</td>\n",
       "      <td id=\"T_6678b_row13_col1\" class=\"data row13 col1\" >0.6637</td>\n",
       "      <td id=\"T_6678b_row13_col2\" class=\"data row13 col2\" >0.0000</td>\n",
       "      <td id=\"T_6678b_row13_col3\" class=\"data row13 col3\" >0.7687</td>\n",
       "      <td id=\"T_6678b_row13_col4\" class=\"data row13 col4\" >0.6532</td>\n",
       "      <td id=\"T_6678b_row13_col5\" class=\"data row13 col5\" >0.6889</td>\n",
       "      <td id=\"T_6678b_row13_col6\" class=\"data row13 col6\" >0.3303</td>\n",
       "      <td id=\"T_6678b_row13_col7\" class=\"data row13 col7\" >0.3594</td>\n",
       "      <td id=\"T_6678b_row13_col8\" class=\"data row13 col8\" >0.4080</td>\n",
       "    </tr>\n",
       "    <tr>\n",
       "      <th id=\"T_6678b_level0_row14\" class=\"row_heading level0 row14\" >dt</th>\n",
       "      <td id=\"T_6678b_row14_col0\" class=\"data row14 col0\" >Decision Tree Classifier</td>\n",
       "      <td id=\"T_6678b_row14_col1\" class=\"data row14 col1\" >0.6207</td>\n",
       "      <td id=\"T_6678b_row14_col2\" class=\"data row14 col2\" >0.6205</td>\n",
       "      <td id=\"T_6678b_row14_col3\" class=\"data row14 col3\" >0.6071</td>\n",
       "      <td id=\"T_6678b_row14_col4\" class=\"data row14 col4\" >0.6152</td>\n",
       "      <td id=\"T_6678b_row14_col5\" class=\"data row14 col5\" >0.6111</td>\n",
       "      <td id=\"T_6678b_row14_col6\" class=\"data row14 col6\" >0.2410</td>\n",
       "      <td id=\"T_6678b_row14_col7\" class=\"data row14 col7\" >0.2411</td>\n",
       "      <td id=\"T_6678b_row14_col8\" class=\"data row14 col8\" >0.2200</td>\n",
       "    </tr>\n",
       "    <tr>\n",
       "      <th id=\"T_6678b_level0_row15\" class=\"row_heading level0 row15\" >dummy</th>\n",
       "      <td id=\"T_6678b_row15_col0\" class=\"data row15 col0\" >Dummy Classifier</td>\n",
       "      <td id=\"T_6678b_row15_col1\" class=\"data row15 col1\" >0.5091</td>\n",
       "      <td id=\"T_6678b_row15_col2\" class=\"data row15 col2\" >0.5000</td>\n",
       "      <td id=\"T_6678b_row15_col3\" class=\"data row15 col3\" >0.0000</td>\n",
       "      <td id=\"T_6678b_row15_col4\" class=\"data row15 col4\" >0.0000</td>\n",
       "      <td id=\"T_6678b_row15_col5\" class=\"data row15 col5\" >0.0000</td>\n",
       "      <td id=\"T_6678b_row15_col6\" class=\"data row15 col6\" >0.0000</td>\n",
       "      <td id=\"T_6678b_row15_col7\" class=\"data row15 col7\" >0.0000</td>\n",
       "      <td id=\"T_6678b_row15_col8\" class=\"data row15 col8\" >0.3300</td>\n",
       "    </tr>\n",
       "  </tbody>\n",
       "</table>\n"
      ],
      "text/plain": [
       "<pandas.io.formats.style.Styler at 0x13eed67abe0>"
      ]
     },
     "metadata": {},
     "output_type": "display_data"
    },
    {
     "data": {
      "text/html": [],
      "text/plain": [
       "<IPython.core.display.HTML object>"
      ]
     },
     "metadata": {},
     "output_type": "display_data"
    }
   ],
   "source": [
    "top_model = compare_models(fold=5,\n",
    "                            sort=\"Accuracy\",\n",
    "                            n_select=1,\n",
    "                            turbo=True\n",
    "                            )"
   ]
  },
  {
   "cell_type": "code",
   "execution_count": 20,
   "metadata": {},
   "outputs": [
    {
     "data": {
      "text/html": [],
      "text/plain": [
       "<IPython.core.display.HTML object>"
      ]
     },
     "metadata": {},
     "output_type": "display_data"
    },
    {
     "data": {
      "text/html": [
       "<style type=\"text/css\">\n",
       "#T_ddc04_row5_col0, #T_ddc04_row5_col1, #T_ddc04_row5_col2, #T_ddc04_row5_col3, #T_ddc04_row5_col4, #T_ddc04_row5_col5, #T_ddc04_row5_col6 {\n",
       "  background: yellow;\n",
       "}\n",
       "</style>\n",
       "<table id=\"T_ddc04\">\n",
       "  <thead>\n",
       "    <tr>\n",
       "      <th class=\"blank level0\" >&nbsp;</th>\n",
       "      <th id=\"T_ddc04_level0_col0\" class=\"col_heading level0 col0\" >Accuracy</th>\n",
       "      <th id=\"T_ddc04_level0_col1\" class=\"col_heading level0 col1\" >AUC</th>\n",
       "      <th id=\"T_ddc04_level0_col2\" class=\"col_heading level0 col2\" >Recall</th>\n",
       "      <th id=\"T_ddc04_level0_col3\" class=\"col_heading level0 col3\" >Prec.</th>\n",
       "      <th id=\"T_ddc04_level0_col4\" class=\"col_heading level0 col4\" >F1</th>\n",
       "      <th id=\"T_ddc04_level0_col5\" class=\"col_heading level0 col5\" >Kappa</th>\n",
       "      <th id=\"T_ddc04_level0_col6\" class=\"col_heading level0 col6\" >MCC</th>\n",
       "    </tr>\n",
       "    <tr>\n",
       "      <th class=\"index_name level0\" >Fold</th>\n",
       "      <th class=\"blank col0\" >&nbsp;</th>\n",
       "      <th class=\"blank col1\" >&nbsp;</th>\n",
       "      <th class=\"blank col2\" >&nbsp;</th>\n",
       "      <th class=\"blank col3\" >&nbsp;</th>\n",
       "      <th class=\"blank col4\" >&nbsp;</th>\n",
       "      <th class=\"blank col5\" >&nbsp;</th>\n",
       "      <th class=\"blank col6\" >&nbsp;</th>\n",
       "    </tr>\n",
       "  </thead>\n",
       "  <tbody>\n",
       "    <tr>\n",
       "      <th id=\"T_ddc04_level0_row0\" class=\"row_heading level0 row0\" >0</th>\n",
       "      <td id=\"T_ddc04_row0_col0\" class=\"data row0 col0\" >0.7350</td>\n",
       "      <td id=\"T_ddc04_row0_col1\" class=\"data row0 col1\" >0.7931</td>\n",
       "      <td id=\"T_ddc04_row0_col2\" class=\"data row0 col2\" >0.6775</td>\n",
       "      <td id=\"T_ddc04_row0_col3\" class=\"data row0 col3\" >0.7572</td>\n",
       "      <td id=\"T_ddc04_row0_col4\" class=\"data row0 col4\" >0.7151</td>\n",
       "      <td id=\"T_ddc04_row0_col5\" class=\"data row0 col5\" >0.4689</td>\n",
       "      <td id=\"T_ddc04_row0_col6\" class=\"data row0 col6\" >0.4714</td>\n",
       "    </tr>\n",
       "    <tr>\n",
       "      <th id=\"T_ddc04_level0_row1\" class=\"row_heading level0 row1\" >1</th>\n",
       "      <td id=\"T_ddc04_row1_col0\" class=\"data row1 col0\" >0.7293</td>\n",
       "      <td id=\"T_ddc04_row1_col1\" class=\"data row1 col1\" >0.7893</td>\n",
       "      <td id=\"T_ddc04_row1_col2\" class=\"data row1 col2\" >0.6701</td>\n",
       "      <td id=\"T_ddc04_row1_col3\" class=\"data row1 col3\" >0.7514</td>\n",
       "      <td id=\"T_ddc04_row1_col4\" class=\"data row1 col4\" >0.7084</td>\n",
       "      <td id=\"T_ddc04_row1_col5\" class=\"data row1 col5\" >0.4573</td>\n",
       "      <td id=\"T_ddc04_row1_col6\" class=\"data row1 col6\" >0.4599</td>\n",
       "    </tr>\n",
       "    <tr>\n",
       "      <th id=\"T_ddc04_level0_row2\" class=\"row_heading level0 row2\" >2</th>\n",
       "      <td id=\"T_ddc04_row2_col0\" class=\"data row2 col0\" >0.7318</td>\n",
       "      <td id=\"T_ddc04_row2_col1\" class=\"data row2 col1\" >0.7952</td>\n",
       "      <td id=\"T_ddc04_row2_col2\" class=\"data row2 col2\" >0.6837</td>\n",
       "      <td id=\"T_ddc04_row2_col3\" class=\"data row2 col3\" >0.7482</td>\n",
       "      <td id=\"T_ddc04_row2_col4\" class=\"data row2 col4\" >0.7145</td>\n",
       "      <td id=\"T_ddc04_row2_col5\" class=\"data row2 col5\" >0.4626</td>\n",
       "      <td id=\"T_ddc04_row2_col6\" class=\"data row2 col6\" >0.4642</td>\n",
       "    </tr>\n",
       "    <tr>\n",
       "      <th id=\"T_ddc04_level0_row3\" class=\"row_heading level0 row3\" >3</th>\n",
       "      <td id=\"T_ddc04_row3_col0\" class=\"data row3 col0\" >0.7158</td>\n",
       "      <td id=\"T_ddc04_row3_col1\" class=\"data row3 col1\" >0.7864</td>\n",
       "      <td id=\"T_ddc04_row3_col2\" class=\"data row3 col2\" >0.6527</td>\n",
       "      <td id=\"T_ddc04_row3_col3\" class=\"data row3 col3\" >0.7380</td>\n",
       "      <td id=\"T_ddc04_row3_col4\" class=\"data row3 col4\" >0.6928</td>\n",
       "      <td id=\"T_ddc04_row3_col5\" class=\"data row3 col5\" >0.4302</td>\n",
       "      <td id=\"T_ddc04_row3_col6\" class=\"data row3 col6\" >0.4331</td>\n",
       "    </tr>\n",
       "    <tr>\n",
       "      <th id=\"T_ddc04_level0_row4\" class=\"row_heading level0 row4\" >4</th>\n",
       "      <td id=\"T_ddc04_row4_col0\" class=\"data row4 col0\" >0.7222</td>\n",
       "      <td id=\"T_ddc04_row4_col1\" class=\"data row4 col1\" >0.7886</td>\n",
       "      <td id=\"T_ddc04_row4_col2\" class=\"data row4 col2\" >0.6693</td>\n",
       "      <td id=\"T_ddc04_row4_col3\" class=\"data row4 col3\" >0.7400</td>\n",
       "      <td id=\"T_ddc04_row4_col4\" class=\"data row4 col4\" >0.7028</td>\n",
       "      <td id=\"T_ddc04_row4_col5\" class=\"data row4 col5\" >0.4433</td>\n",
       "      <td id=\"T_ddc04_row4_col6\" class=\"data row4 col6\" >0.4452</td>\n",
       "    </tr>\n",
       "    <tr>\n",
       "      <th id=\"T_ddc04_level0_row5\" class=\"row_heading level0 row5\" >Mean</th>\n",
       "      <td id=\"T_ddc04_row5_col0\" class=\"data row5 col0\" >0.7268</td>\n",
       "      <td id=\"T_ddc04_row5_col1\" class=\"data row5 col1\" >0.7905</td>\n",
       "      <td id=\"T_ddc04_row5_col2\" class=\"data row5 col2\" >0.6707</td>\n",
       "      <td id=\"T_ddc04_row5_col3\" class=\"data row5 col3\" >0.7470</td>\n",
       "      <td id=\"T_ddc04_row5_col4\" class=\"data row5 col4\" >0.7067</td>\n",
       "      <td id=\"T_ddc04_row5_col5\" class=\"data row5 col5\" >0.4524</td>\n",
       "      <td id=\"T_ddc04_row5_col6\" class=\"data row5 col6\" >0.4548</td>\n",
       "    </tr>\n",
       "    <tr>\n",
       "      <th id=\"T_ddc04_level0_row6\" class=\"row_heading level0 row6\" >Std</th>\n",
       "      <td id=\"T_ddc04_row6_col0\" class=\"data row6 col0\" >0.0069</td>\n",
       "      <td id=\"T_ddc04_row6_col1\" class=\"data row6 col1\" >0.0032</td>\n",
       "      <td id=\"T_ddc04_row6_col2\" class=\"data row6 col2\" >0.0104</td>\n",
       "      <td id=\"T_ddc04_row6_col3\" class=\"data row6 col3\" >0.0071</td>\n",
       "      <td id=\"T_ddc04_row6_col4\" class=\"data row6 col4\" >0.0083</td>\n",
       "      <td id=\"T_ddc04_row6_col5\" class=\"data row6 col5\" >0.0139</td>\n",
       "      <td id=\"T_ddc04_row6_col6\" class=\"data row6 col6\" >0.0138</td>\n",
       "    </tr>\n",
       "  </tbody>\n",
       "</table>\n"
      ],
      "text/plain": [
       "<pandas.io.formats.style.Styler at 0x13eef180cd0>"
      ]
     },
     "metadata": {},
     "output_type": "display_data"
    },
    {
     "data": {
      "text/html": [],
      "text/plain": [
       "<IPython.core.display.HTML object>"
      ]
     },
     "metadata": {},
     "output_type": "display_data"
    },
    {
     "name": "stdout",
     "output_type": "stream",
     "text": [
      "Fitting 5 folds for each of 10 candidates, totalling 50 fits\n"
     ]
    }
   ],
   "source": [
    "# hyperparameter optimization \n",
    "tuned_model = tune_model(estimator=top_model,\n",
    "                         fold=5,\n",
    "                         optimize=\"Accuracy\", \n",
    "                         choose_better=True)"
   ]
  },
  {
   "cell_type": "code",
   "execution_count": 21,
   "metadata": {},
   "outputs": [
    {
     "data": {
      "text/html": [],
      "text/plain": [
       "<IPython.core.display.HTML object>"
      ]
     },
     "metadata": {},
     "output_type": "display_data"
    },
    {
     "data": {
      "text/html": [
       "<div>\n",
       "<style scoped>\n",
       "    .dataframe tbody tr th:only-of-type {\n",
       "        vertical-align: middle;\n",
       "    }\n",
       "\n",
       "    .dataframe tbody tr th {\n",
       "        vertical-align: top;\n",
       "    }\n",
       "\n",
       "    .dataframe thead th {\n",
       "        text-align: right;\n",
       "    }\n",
       "</style>\n",
       "<table border=\"1\" class=\"dataframe\">\n",
       "  <thead>\n",
       "    <tr style=\"text-align: right;\">\n",
       "      <th></th>\n",
       "      <th>Parameters</th>\n",
       "    </tr>\n",
       "  </thead>\n",
       "  <tbody>\n",
       "    <tr>\n",
       "      <th>ccp_alpha</th>\n",
       "      <td>0.0</td>\n",
       "    </tr>\n",
       "    <tr>\n",
       "      <th>criterion</th>\n",
       "      <td>friedman_mse</td>\n",
       "    </tr>\n",
       "    <tr>\n",
       "      <th>init</th>\n",
       "      <td>None</td>\n",
       "    </tr>\n",
       "    <tr>\n",
       "      <th>learning_rate</th>\n",
       "      <td>0.05</td>\n",
       "    </tr>\n",
       "    <tr>\n",
       "      <th>loss</th>\n",
       "      <td>log_loss</td>\n",
       "    </tr>\n",
       "    <tr>\n",
       "      <th>max_depth</th>\n",
       "      <td>4</td>\n",
       "    </tr>\n",
       "    <tr>\n",
       "      <th>max_features</th>\n",
       "      <td>log2</td>\n",
       "    </tr>\n",
       "    <tr>\n",
       "      <th>max_leaf_nodes</th>\n",
       "      <td>None</td>\n",
       "    </tr>\n",
       "    <tr>\n",
       "      <th>min_impurity_decrease</th>\n",
       "      <td>0.002</td>\n",
       "    </tr>\n",
       "    <tr>\n",
       "      <th>min_samples_leaf</th>\n",
       "      <td>4</td>\n",
       "    </tr>\n",
       "    <tr>\n",
       "      <th>min_samples_split</th>\n",
       "      <td>9</td>\n",
       "    </tr>\n",
       "    <tr>\n",
       "      <th>min_weight_fraction_leaf</th>\n",
       "      <td>0.0</td>\n",
       "    </tr>\n",
       "    <tr>\n",
       "      <th>n_estimators</th>\n",
       "      <td>120</td>\n",
       "    </tr>\n",
       "    <tr>\n",
       "      <th>n_iter_no_change</th>\n",
       "      <td>None</td>\n",
       "    </tr>\n",
       "    <tr>\n",
       "      <th>random_state</th>\n",
       "      <td>20</td>\n",
       "    </tr>\n",
       "    <tr>\n",
       "      <th>subsample</th>\n",
       "      <td>0.55</td>\n",
       "    </tr>\n",
       "    <tr>\n",
       "      <th>tol</th>\n",
       "      <td>0.0001</td>\n",
       "    </tr>\n",
       "    <tr>\n",
       "      <th>validation_fraction</th>\n",
       "      <td>0.1</td>\n",
       "    </tr>\n",
       "    <tr>\n",
       "      <th>verbose</th>\n",
       "      <td>0</td>\n",
       "    </tr>\n",
       "    <tr>\n",
       "      <th>warm_start</th>\n",
       "      <td>False</td>\n",
       "    </tr>\n",
       "  </tbody>\n",
       "</table>\n",
       "</div>"
      ],
      "text/plain": [
       "                            Parameters\n",
       "ccp_alpha                          0.0\n",
       "criterion                 friedman_mse\n",
       "init                              None\n",
       "learning_rate                     0.05\n",
       "loss                          log_loss\n",
       "max_depth                            4\n",
       "max_features                      log2\n",
       "max_leaf_nodes                    None\n",
       "min_impurity_decrease            0.002\n",
       "min_samples_leaf                     4\n",
       "min_samples_split                    9\n",
       "min_weight_fraction_leaf           0.0\n",
       "n_estimators                       120\n",
       "n_iter_no_change                  None\n",
       "random_state                        20\n",
       "subsample                         0.55\n",
       "tol                             0.0001\n",
       "validation_fraction                0.1\n",
       "verbose                              0\n",
       "warm_start                       False"
      ]
     },
     "metadata": {},
     "output_type": "display_data"
    }
   ],
   "source": [
    "#Let's see the hyperparameters of the chosen model\n",
    "plot_model(tuned_model, plot=\"parameter\")"
   ]
  },
  {
   "cell_type": "markdown",
   "metadata": {},
   "source": [
    "## Advanced training techniques"
   ]
  },
  {
   "cell_type": "code",
   "execution_count": 22,
   "metadata": {},
   "outputs": [
    {
     "data": {
      "text/html": [],
      "text/plain": [
       "<IPython.core.display.HTML object>"
      ]
     },
     "metadata": {},
     "output_type": "display_data"
    },
    {
     "data": {
      "text/html": [
       "<style type=\"text/css\">\n",
       "#T_1319b_row5_col0, #T_1319b_row5_col1, #T_1319b_row5_col2, #T_1319b_row5_col3, #T_1319b_row5_col4, #T_1319b_row5_col5, #T_1319b_row5_col6 {\n",
       "  background: yellow;\n",
       "}\n",
       "</style>\n",
       "<table id=\"T_1319b\">\n",
       "  <thead>\n",
       "    <tr>\n",
       "      <th class=\"blank level0\" >&nbsp;</th>\n",
       "      <th id=\"T_1319b_level0_col0\" class=\"col_heading level0 col0\" >Accuracy</th>\n",
       "      <th id=\"T_1319b_level0_col1\" class=\"col_heading level0 col1\" >AUC</th>\n",
       "      <th id=\"T_1319b_level0_col2\" class=\"col_heading level0 col2\" >Recall</th>\n",
       "      <th id=\"T_1319b_level0_col3\" class=\"col_heading level0 col3\" >Prec.</th>\n",
       "      <th id=\"T_1319b_level0_col4\" class=\"col_heading level0 col4\" >F1</th>\n",
       "      <th id=\"T_1319b_level0_col5\" class=\"col_heading level0 col5\" >Kappa</th>\n",
       "      <th id=\"T_1319b_level0_col6\" class=\"col_heading level0 col6\" >MCC</th>\n",
       "    </tr>\n",
       "    <tr>\n",
       "      <th class=\"index_name level0\" >Fold</th>\n",
       "      <th class=\"blank col0\" >&nbsp;</th>\n",
       "      <th class=\"blank col1\" >&nbsp;</th>\n",
       "      <th class=\"blank col2\" >&nbsp;</th>\n",
       "      <th class=\"blank col3\" >&nbsp;</th>\n",
       "      <th class=\"blank col4\" >&nbsp;</th>\n",
       "      <th class=\"blank col5\" >&nbsp;</th>\n",
       "      <th class=\"blank col6\" >&nbsp;</th>\n",
       "    </tr>\n",
       "  </thead>\n",
       "  <tbody>\n",
       "    <tr>\n",
       "      <th id=\"T_1319b_level0_row0\" class=\"row_heading level0 row0\" >0</th>\n",
       "      <td id=\"T_1319b_row0_col0\" class=\"data row0 col0\" >0.7340</td>\n",
       "      <td id=\"T_1319b_row0_col1\" class=\"data row0 col1\" >0.7928</td>\n",
       "      <td id=\"T_1319b_row0_col2\" class=\"data row0 col2\" >0.6734</td>\n",
       "      <td id=\"T_1319b_row0_col3\" class=\"data row0 col3\" >0.7577</td>\n",
       "      <td id=\"T_1319b_row0_col4\" class=\"data row0 col4\" >0.7131</td>\n",
       "      <td id=\"T_1319b_row0_col5\" class=\"data row0 col5\" >0.4667</td>\n",
       "      <td id=\"T_1319b_row0_col6\" class=\"data row0 col6\" >0.4695</td>\n",
       "    </tr>\n",
       "    <tr>\n",
       "      <th id=\"T_1319b_level0_row1\" class=\"row_heading level0 row1\" >1</th>\n",
       "      <td id=\"T_1319b_row1_col0\" class=\"data row1 col0\" >0.7295</td>\n",
       "      <td id=\"T_1319b_row1_col1\" class=\"data row1 col1\" >0.7901</td>\n",
       "      <td id=\"T_1319b_row1_col2\" class=\"data row1 col2\" >0.6698</td>\n",
       "      <td id=\"T_1319b_row1_col3\" class=\"data row1 col3\" >0.7521</td>\n",
       "      <td id=\"T_1319b_row1_col4\" class=\"data row1 col4\" >0.7086</td>\n",
       "      <td id=\"T_1319b_row1_col5\" class=\"data row1 col5\" >0.4578</td>\n",
       "      <td id=\"T_1319b_row1_col6\" class=\"data row1 col6\" >0.4605</td>\n",
       "    </tr>\n",
       "    <tr>\n",
       "      <th id=\"T_1319b_level0_row2\" class=\"row_heading level0 row2\" >2</th>\n",
       "      <td id=\"T_1319b_row2_col0\" class=\"data row2 col0\" >0.7313</td>\n",
       "      <td id=\"T_1319b_row2_col1\" class=\"data row2 col1\" >0.7947</td>\n",
       "      <td id=\"T_1319b_row2_col2\" class=\"data row2 col2\" >0.6812</td>\n",
       "      <td id=\"T_1319b_row2_col3\" class=\"data row2 col3\" >0.7487</td>\n",
       "      <td id=\"T_1319b_row2_col4\" class=\"data row2 col4\" >0.7134</td>\n",
       "      <td id=\"T_1319b_row2_col5\" class=\"data row2 col5\" >0.4615</td>\n",
       "      <td id=\"T_1319b_row2_col6\" class=\"data row2 col6\" >0.4633</td>\n",
       "    </tr>\n",
       "    <tr>\n",
       "      <th id=\"T_1319b_level0_row3\" class=\"row_heading level0 row3\" >3</th>\n",
       "      <td id=\"T_1319b_row3_col0\" class=\"data row3 col0\" >0.7181</td>\n",
       "      <td id=\"T_1319b_row3_col1\" class=\"data row3 col1\" >0.7864</td>\n",
       "      <td id=\"T_1319b_row3_col2\" class=\"data row3 col2\" >0.6582</td>\n",
       "      <td id=\"T_1319b_row3_col3\" class=\"data row3 col3\" >0.7390</td>\n",
       "      <td id=\"T_1319b_row3_col4\" class=\"data row3 col4\" >0.6962</td>\n",
       "      <td id=\"T_1319b_row3_col5\" class=\"data row3 col5\" >0.4348</td>\n",
       "      <td id=\"T_1319b_row3_col6\" class=\"data row3 col6\" >0.4374</td>\n",
       "    </tr>\n",
       "    <tr>\n",
       "      <th id=\"T_1319b_level0_row4\" class=\"row_heading level0 row4\" >4</th>\n",
       "      <td id=\"T_1319b_row4_col0\" class=\"data row4 col0\" >0.7210</td>\n",
       "      <td id=\"T_1319b_row4_col1\" class=\"data row4 col1\" >0.7882</td>\n",
       "      <td id=\"T_1319b_row4_col2\" class=\"data row4 col2\" >0.6658</td>\n",
       "      <td id=\"T_1319b_row4_col3\" class=\"data row4 col3\" >0.7398</td>\n",
       "      <td id=\"T_1319b_row4_col4\" class=\"data row4 col4\" >0.7008</td>\n",
       "      <td id=\"T_1319b_row4_col5\" class=\"data row4 col5\" >0.4408</td>\n",
       "      <td id=\"T_1319b_row4_col6\" class=\"data row4 col6\" >0.4430</td>\n",
       "    </tr>\n",
       "    <tr>\n",
       "      <th id=\"T_1319b_level0_row5\" class=\"row_heading level0 row5\" >Mean</th>\n",
       "      <td id=\"T_1319b_row5_col0\" class=\"data row5 col0\" >0.7268</td>\n",
       "      <td id=\"T_1319b_row5_col1\" class=\"data row5 col1\" >0.7904</td>\n",
       "      <td id=\"T_1319b_row5_col2\" class=\"data row5 col2\" >0.6697</td>\n",
       "      <td id=\"T_1319b_row5_col3\" class=\"data row5 col3\" >0.7474</td>\n",
       "      <td id=\"T_1319b_row5_col4\" class=\"data row5 col4\" >0.7064</td>\n",
       "      <td id=\"T_1319b_row5_col5\" class=\"data row5 col5\" >0.4523</td>\n",
       "      <td id=\"T_1319b_row5_col6\" class=\"data row5 col6\" >0.4547</td>\n",
       "    </tr>\n",
       "    <tr>\n",
       "      <th id=\"T_1319b_level0_row6\" class=\"row_heading level0 row6\" >Std</th>\n",
       "      <td id=\"T_1319b_row6_col0\" class=\"data row6 col0\" >0.0061</td>\n",
       "      <td id=\"T_1319b_row6_col1\" class=\"data row6 col1\" >0.0030</td>\n",
       "      <td id=\"T_1319b_row6_col2\" class=\"data row6 col2\" >0.0077</td>\n",
       "      <td id=\"T_1319b_row6_col3\" class=\"data row6 col3\" >0.0072</td>\n",
       "      <td id=\"T_1319b_row6_col4\" class=\"data row6 col4\" >0.0068</td>\n",
       "      <td id=\"T_1319b_row6_col5\" class=\"data row6 col5\" >0.0123</td>\n",
       "      <td id=\"T_1319b_row6_col6\" class=\"data row6 col6\" >0.0124</td>\n",
       "    </tr>\n",
       "  </tbody>\n",
       "</table>\n"
      ],
      "text/plain": [
       "<pandas.io.formats.style.Styler at 0x13eed681250>"
      ]
     },
     "metadata": {},
     "output_type": "display_data"
    },
    {
     "data": {
      "text/html": [],
      "text/plain": [
       "<IPython.core.display.HTML object>"
      ]
     },
     "metadata": {},
     "output_type": "display_data"
    }
   ],
   "source": [
    "bagged_model = ensemble_model(tuned_model, fold=5)"
   ]
  },
  {
   "cell_type": "code",
   "execution_count": 23,
   "metadata": {},
   "outputs": [
    {
     "data": {
      "text/html": [],
      "text/plain": [
       "<IPython.core.display.HTML object>"
      ]
     },
     "metadata": {},
     "output_type": "display_data"
    },
    {
     "data": {
      "text/html": [
       "<style type=\"text/css\">\n",
       "#T_f965e_row5_col0, #T_f965e_row5_col1, #T_f965e_row5_col2, #T_f965e_row5_col3, #T_f965e_row5_col4, #T_f965e_row5_col5, #T_f965e_row5_col6 {\n",
       "  background: yellow;\n",
       "}\n",
       "</style>\n",
       "<table id=\"T_f965e\">\n",
       "  <thead>\n",
       "    <tr>\n",
       "      <th class=\"blank level0\" >&nbsp;</th>\n",
       "      <th id=\"T_f965e_level0_col0\" class=\"col_heading level0 col0\" >Accuracy</th>\n",
       "      <th id=\"T_f965e_level0_col1\" class=\"col_heading level0 col1\" >AUC</th>\n",
       "      <th id=\"T_f965e_level0_col2\" class=\"col_heading level0 col2\" >Recall</th>\n",
       "      <th id=\"T_f965e_level0_col3\" class=\"col_heading level0 col3\" >Prec.</th>\n",
       "      <th id=\"T_f965e_level0_col4\" class=\"col_heading level0 col4\" >F1</th>\n",
       "      <th id=\"T_f965e_level0_col5\" class=\"col_heading level0 col5\" >Kappa</th>\n",
       "      <th id=\"T_f965e_level0_col6\" class=\"col_heading level0 col6\" >MCC</th>\n",
       "    </tr>\n",
       "    <tr>\n",
       "      <th class=\"index_name level0\" >Fold</th>\n",
       "      <th class=\"blank col0\" >&nbsp;</th>\n",
       "      <th class=\"blank col1\" >&nbsp;</th>\n",
       "      <th class=\"blank col2\" >&nbsp;</th>\n",
       "      <th class=\"blank col3\" >&nbsp;</th>\n",
       "      <th class=\"blank col4\" >&nbsp;</th>\n",
       "      <th class=\"blank col5\" >&nbsp;</th>\n",
       "      <th class=\"blank col6\" >&nbsp;</th>\n",
       "    </tr>\n",
       "  </thead>\n",
       "  <tbody>\n",
       "    <tr>\n",
       "      <th id=\"T_f965e_level0_row0\" class=\"row_heading level0 row0\" >0</th>\n",
       "      <td id=\"T_f965e_row0_col0\" class=\"data row0 col0\" >0.7348</td>\n",
       "      <td id=\"T_f965e_row0_col1\" class=\"data row0 col1\" >0.7930</td>\n",
       "      <td id=\"T_f965e_row0_col2\" class=\"data row0 col2\" >0.6756</td>\n",
       "      <td id=\"T_f965e_row0_col3\" class=\"data row0 col3\" >0.7578</td>\n",
       "      <td id=\"T_f965e_row0_col4\" class=\"data row0 col4\" >0.7144</td>\n",
       "      <td id=\"T_f965e_row0_col5\" class=\"data row0 col5\" >0.4683</td>\n",
       "      <td id=\"T_f965e_row0_col6\" class=\"data row0 col6\" >0.4710</td>\n",
       "    </tr>\n",
       "    <tr>\n",
       "      <th id=\"T_f965e_level0_row1\" class=\"row_heading level0 row1\" >1</th>\n",
       "      <td id=\"T_f965e_row1_col0\" class=\"data row1 col0\" >0.7291</td>\n",
       "      <td id=\"T_f965e_row1_col1\" class=\"data row1 col1\" >0.7898</td>\n",
       "      <td id=\"T_f965e_row1_col2\" class=\"data row1 col2\" >0.6704</td>\n",
       "      <td id=\"T_f965e_row1_col3\" class=\"data row1 col3\" >0.7511</td>\n",
       "      <td id=\"T_f965e_row1_col4\" class=\"data row1 col4\" >0.7084</td>\n",
       "      <td id=\"T_f965e_row1_col5\" class=\"data row1 col5\" >0.4570</td>\n",
       "      <td id=\"T_f965e_row1_col6\" class=\"data row1 col6\" >0.4596</td>\n",
       "    </tr>\n",
       "    <tr>\n",
       "      <th id=\"T_f965e_level0_row2\" class=\"row_heading level0 row2\" >2</th>\n",
       "      <td id=\"T_f965e_row2_col0\" class=\"data row2 col0\" >0.7319</td>\n",
       "      <td id=\"T_f965e_row2_col1\" class=\"data row2 col1\" >0.7951</td>\n",
       "      <td id=\"T_f965e_row2_col2\" class=\"data row2 col2\" >0.6837</td>\n",
       "      <td id=\"T_f965e_row2_col3\" class=\"data row2 col3\" >0.7484</td>\n",
       "      <td id=\"T_f965e_row2_col4\" class=\"data row2 col4\" >0.7146</td>\n",
       "      <td id=\"T_f965e_row2_col5\" class=\"data row2 col5\" >0.4628</td>\n",
       "      <td id=\"T_f965e_row2_col6\" class=\"data row2 col6\" >0.4645</td>\n",
       "    </tr>\n",
       "    <tr>\n",
       "      <th id=\"T_f965e_level0_row3\" class=\"row_heading level0 row3\" >3</th>\n",
       "      <td id=\"T_f965e_row3_col0\" class=\"data row3 col0\" >0.7181</td>\n",
       "      <td id=\"T_f965e_row3_col1\" class=\"data row3 col1\" >0.7866</td>\n",
       "      <td id=\"T_f965e_row3_col2\" class=\"data row3 col2\" >0.6571</td>\n",
       "      <td id=\"T_f965e_row3_col3\" class=\"data row3 col3\" >0.7395</td>\n",
       "      <td id=\"T_f965e_row3_col4\" class=\"data row3 col4\" >0.6959</td>\n",
       "      <td id=\"T_f965e_row3_col5\" class=\"data row3 col5\" >0.4348</td>\n",
       "      <td id=\"T_f965e_row3_col6\" class=\"data row3 col6\" >0.4375</td>\n",
       "    </tr>\n",
       "    <tr>\n",
       "      <th id=\"T_f965e_level0_row4\" class=\"row_heading level0 row4\" >4</th>\n",
       "      <td id=\"T_f965e_row4_col0\" class=\"data row4 col0\" >0.7221</td>\n",
       "      <td id=\"T_f965e_row4_col1\" class=\"data row4 col1\" >0.7886</td>\n",
       "      <td id=\"T_f965e_row4_col2\" class=\"data row4 col2\" >0.6674</td>\n",
       "      <td id=\"T_f965e_row4_col3\" class=\"data row4 col3\" >0.7407</td>\n",
       "      <td id=\"T_f965e_row4_col4\" class=\"data row4 col4\" >0.7022</td>\n",
       "      <td id=\"T_f965e_row4_col5\" class=\"data row4 col5\" >0.4430</td>\n",
       "      <td id=\"T_f965e_row4_col6\" class=\"data row4 col6\" >0.4451</td>\n",
       "    </tr>\n",
       "    <tr>\n",
       "      <th id=\"T_f965e_level0_row5\" class=\"row_heading level0 row5\" >Mean</th>\n",
       "      <td id=\"T_f965e_row5_col0\" class=\"data row5 col0\" >0.7272</td>\n",
       "      <td id=\"T_f965e_row5_col1\" class=\"data row5 col1\" >0.7906</td>\n",
       "      <td id=\"T_f965e_row5_col2\" class=\"data row5 col2\" >0.6708</td>\n",
       "      <td id=\"T_f965e_row5_col3\" class=\"data row5 col3\" >0.7475</td>\n",
       "      <td id=\"T_f965e_row5_col4\" class=\"data row5 col4\" >0.7071</td>\n",
       "      <td id=\"T_f965e_row5_col5\" class=\"data row5 col5\" >0.4532</td>\n",
       "      <td id=\"T_f965e_row5_col6\" class=\"data row5 col6\" >0.4555</td>\n",
       "    </tr>\n",
       "    <tr>\n",
       "      <th id=\"T_f965e_level0_row6\" class=\"row_heading level0 row6\" >Std</th>\n",
       "      <td id=\"T_f965e_row6_col0\" class=\"data row6 col0\" >0.0062</td>\n",
       "      <td id=\"T_f965e_row6_col1\" class=\"data row6 col1\" >0.0031</td>\n",
       "      <td id=\"T_f965e_row6_col2\" class=\"data row6 col2\" >0.0088</td>\n",
       "      <td id=\"T_f965e_row6_col3\" class=\"data row6 col3\" >0.0068</td>\n",
       "      <td id=\"T_f965e_row6_col4\" class=\"data row6 col4\" >0.0072</td>\n",
       "      <td id=\"T_f965e_row6_col5\" class=\"data row6 col5\" >0.0125</td>\n",
       "      <td id=\"T_f965e_row6_col6\" class=\"data row6 col6\" >0.0124</td>\n",
       "    </tr>\n",
       "  </tbody>\n",
       "</table>\n"
      ],
      "text/plain": [
       "<pandas.io.formats.style.Styler at 0x13ef2abd880>"
      ]
     },
     "metadata": {},
     "output_type": "display_data"
    },
    {
     "data": {
      "text/html": [],
      "text/plain": [
       "<IPython.core.display.HTML object>"
      ]
     },
     "metadata": {},
     "output_type": "display_data"
    }
   ],
   "source": [
    "blended_model = blend_models(estimator_list=[tuned_model, bagged_model],\n",
    "                            fold=5)"
   ]
  },
  {
   "cell_type": "code",
   "execution_count": 24,
   "metadata": {},
   "outputs": [
    {
     "data": {
      "text/html": [],
      "text/plain": [
       "<IPython.core.display.HTML object>"
      ]
     },
     "metadata": {},
     "output_type": "display_data"
    },
    {
     "data": {
      "text/html": [
       "<div>\n",
       "<style scoped>\n",
       "    .dataframe tbody tr th:only-of-type {\n",
       "        vertical-align: middle;\n",
       "    }\n",
       "\n",
       "    .dataframe tbody tr th {\n",
       "        vertical-align: top;\n",
       "    }\n",
       "\n",
       "    .dataframe thead th {\n",
       "        text-align: right;\n",
       "    }\n",
       "</style>\n",
       "<table border=\"1\" class=\"dataframe\">\n",
       "  <thead>\n",
       "    <tr style=\"text-align: right;\">\n",
       "      <th></th>\n",
       "      <th>Parameters</th>\n",
       "    </tr>\n",
       "  </thead>\n",
       "  <tbody>\n",
       "    <tr>\n",
       "      <th>estimators</th>\n",
       "      <td>[('Gradient Boosting Classifier', GradientBoos...</td>\n",
       "    </tr>\n",
       "    <tr>\n",
       "      <th>flatten_transform</th>\n",
       "      <td>True</td>\n",
       "    </tr>\n",
       "    <tr>\n",
       "      <th>n_jobs</th>\n",
       "      <td>-1</td>\n",
       "    </tr>\n",
       "    <tr>\n",
       "      <th>verbose</th>\n",
       "      <td>False</td>\n",
       "    </tr>\n",
       "    <tr>\n",
       "      <th>voting</th>\n",
       "      <td>soft</td>\n",
       "    </tr>\n",
       "    <tr>\n",
       "      <th>weights</th>\n",
       "      <td>None</td>\n",
       "    </tr>\n",
       "  </tbody>\n",
       "</table>\n",
       "</div>"
      ],
      "text/plain": [
       "                                                          Parameters\n",
       "estimators         [('Gradient Boosting Classifier', GradientBoos...\n",
       "flatten_transform                                               True\n",
       "n_jobs                                                            -1\n",
       "verbose                                                        False\n",
       "voting                                                          soft\n",
       "weights                                                         None"
      ]
     },
     "metadata": {},
     "output_type": "display_data"
    },
    {
     "name": "stdout",
     "output_type": "stream",
     "text": [
      "Model: <class 'sklearn.ensemble._voting.VotingClassifier'>\n"
     ]
    }
   ],
   "source": [
    "best_model = blended_model\n",
    "plot_model(best_model, plot=\"parameter\")\n",
    "print(f\"Model: {type(best_model)}\")"
   ]
  },
  {
   "cell_type": "markdown",
   "metadata": {},
   "source": [
    "### Model Evalution metrics "
   ]
  },
  {
   "cell_type": "code",
   "execution_count": 25,
   "metadata": {},
   "outputs": [
    {
     "data": {
      "text/html": [],
      "text/plain": [
       "<IPython.core.display.HTML object>"
      ]
     },
     "metadata": {},
     "output_type": "display_data"
    },
    {
     "data": {
      "image/png": "[encoded data removed]",
      "text/plain": [
       "<Figure size 432x288 with 1 Axes>"
      ]
     },
     "metadata": {
      "needs_background": "light"
     },
     "output_type": "display_data"
    }
   ],
   "source": [
    "plot_model(best_model, plot=\"auc\")"
   ]
  },
  {
   "cell_type": "code",
   "execution_count": 26,
   "metadata": {},
   "outputs": [
    {
     "data": {
      "text/html": [],
      "text/plain": [
       "<IPython.core.display.HTML object>"
      ]
     },
     "metadata": {},
     "output_type": "display_data"
    },
    {
     "data": {
      "image/png": "[encoded data removed]",
      "text/plain": [
       "<Figure size 432x288 with 1 Axes>"
      ]
     },
     "metadata": {
      "needs_background": "light"
     },
     "output_type": "display_data"
    }
   ],
   "source": [
    "plot_model(best_model, plot=\"pr\")"
   ]
  },
  {
   "cell_type": "code",
   "execution_count": 27,
   "metadata": {},
   "outputs": [
    {
     "data": {
      "text/html": [],
      "text/plain": [
       "<IPython.core.display.HTML object>"
      ]
     },
     "metadata": {},
     "output_type": "display_data"
    },
    {
     "data": {
      "image/png": "[encoded data removed]",
      "text/plain": [
       "<Figure size 432x288 with 1 Axes>"
      ]
     },
     "metadata": {
      "needs_background": "light"
     },
     "output_type": "display_data"
    }
   ],
   "source": [
    "plot_model(best_model, plot=\"confusion_matrix\")"
   ]
  },
  {
   "cell_type": "code",
   "execution_count": 28,
   "metadata": {},
   "outputs": [
    {
     "data": {
      "text/html": [],
      "text/plain": [
       "<IPython.core.display.HTML object>"
      ]
     },
     "metadata": {},
     "output_type": "display_data"
    },
    {
     "data": {
      "image/png": "[encoded data removed]",
      "text/plain": [
       "<Figure size 432x288 with 2 Axes>"
      ]
     },
     "metadata": {
      "needs_background": "light"
     },
     "output_type": "display_data"
    }
   ],
   "source": [
    "plot_model(best_model, plot=\"class_report\")"
   ]
  },
  {
   "cell_type": "code",
   "execution_count": 29,
   "metadata": {},
   "outputs": [
    {
     "data": {
      "text/html": [],
      "text/plain": [
       "<IPython.core.display.HTML object>"
      ]
     },
     "metadata": {},
     "output_type": "display_data"
    },
    {
     "data": {
      "image/png": "[encoded data removed]",
      "text/plain": [
       "<Figure size 800x500 with 1 Axes>"
      ]
     },
     "metadata": {
      "needs_background": "light"
     },
     "output_type": "display_data"
    }
   ],
   "source": [
    "plot_model(top_model, plot = 'feature')"
   ]
  },
  {
   "cell_type": "markdown",
   "metadata": {},
   "source": [
    "### Prediction on Test Data"
   ]
  },
  {
   "cell_type": "code",
   "execution_count": 58,
   "metadata": {},
   "outputs": [
    {
     "data": {
      "text/html": [
       "<style type=\"text/css\">\n",
       "</style>\n",
       "<table id=\"T_c8b82\">\n",
       "  <thead>\n",
       "    <tr>\n",
       "      <th class=\"blank level0\" >&nbsp;</th>\n",
       "      <th id=\"T_c8b82_level0_col0\" class=\"col_heading level0 col0\" >Model</th>\n",
       "      <th id=\"T_c8b82_level0_col1\" class=\"col_heading level0 col1\" >Accuracy</th>\n",
       "      <th id=\"T_c8b82_level0_col2\" class=\"col_heading level0 col2\" >AUC</th>\n",
       "      <th id=\"T_c8b82_level0_col3\" class=\"col_heading level0 col3\" >Recall</th>\n",
       "      <th id=\"T_c8b82_level0_col4\" class=\"col_heading level0 col4\" >Prec.</th>\n",
       "      <th id=\"T_c8b82_level0_col5\" class=\"col_heading level0 col5\" >F1</th>\n",
       "      <th id=\"T_c8b82_level0_col6\" class=\"col_heading level0 col6\" >Kappa</th>\n",
       "      <th id=\"T_c8b82_level0_col7\" class=\"col_heading level0 col7\" >MCC</th>\n",
       "    </tr>\n",
       "  </thead>\n",
       "  <tbody>\n",
       "    <tr>\n",
       "      <th id=\"T_c8b82_level0_row0\" class=\"row_heading level0 row0\" >0</th>\n",
       "      <td id=\"T_c8b82_row0_col0\" class=\"data row0 col0\" >Voting Classifier</td>\n",
       "      <td id=\"T_c8b82_row0_col1\" class=\"data row0 col1\" >0.7255</td>\n",
       "      <td id=\"T_c8b82_row0_col2\" class=\"data row0 col2\" >0.7918</td>\n",
       "      <td id=\"T_c8b82_row0_col3\" class=\"data row0 col3\" >0.6652</td>\n",
       "      <td id=\"T_c8b82_row0_col4\" class=\"data row0 col4\" >0.7477</td>\n",
       "      <td id=\"T_c8b82_row0_col5\" class=\"data row0 col5\" >0.7040</td>\n",
       "      <td id=\"T_c8b82_row0_col6\" class=\"data row0 col6\" >0.4496</td>\n",
       "      <td id=\"T_c8b82_row0_col7\" class=\"data row0 col7\" >0.4523</td>\n",
       "    </tr>\n",
       "  </tbody>\n",
       "</table>\n"
      ],
      "text/plain": [
       "<pandas.io.formats.style.Styler at 0x181ea3b9a00>"
      ]
     },
     "metadata": {},
     "output_type": "display_data"
    }
   ],
   "source": [
    "predict_model(best_model);"
   ]
  },
  {
   "cell_type": "code",
   "execution_count": 30,
   "metadata": {},
   "outputs": [],
   "source": [
    "final_model = finalize_model(best_model)"
   ]
  },
  {
   "cell_type": "markdown",
   "metadata": {},
   "source": [
    " ### Prediction on Unseen Data"
   ]
  },
  {
   "cell_type": "code",
   "execution_count": 34,
   "metadata": {},
   "outputs": [
    {
     "data": {
      "text/html": [],
      "text/plain": [
       "<IPython.core.display.HTML object>"
      ]
     },
     "metadata": {},
     "output_type": "display_data"
    },
    {
     "data": {
      "text/html": [
       "<div>\n",
       "<style scoped>\n",
       "    .dataframe tbody tr th:only-of-type {\n",
       "        vertical-align: middle;\n",
       "    }\n",
       "\n",
       "    .dataframe tbody tr th {\n",
       "        vertical-align: top;\n",
       "    }\n",
       "\n",
       "    .dataframe thead th {\n",
       "        text-align: right;\n",
       "    }\n",
       "</style>\n",
       "<table border=\"1\" class=\"dataframe\">\n",
       "  <thead>\n",
       "    <tr style=\"text-align: right;\">\n",
       "      <th></th>\n",
       "      <th>age</th>\n",
       "      <th>gender</th>\n",
       "      <th>ap_hi</th>\n",
       "      <th>ap_lo</th>\n",
       "      <th>cholesterol_normal</th>\n",
       "      <th>cholesterol_well above normal</th>\n",
       "      <th>smoke</th>\n",
       "      <th>alco</th>\n",
       "      <th>active</th>\n",
       "      <th>bmi</th>\n",
       "      <th>Label</th>\n",
       "      <th>Score</th>\n",
       "    </tr>\n",
       "  </thead>\n",
       "  <tbody>\n",
       "    <tr>\n",
       "      <th>0</th>\n",
       "      <td>47.799999</td>\n",
       "      <td>1.0</td>\n",
       "      <td>100.0</td>\n",
       "      <td>60.0</td>\n",
       "      <td>1.0</td>\n",
       "      <td>0.0</td>\n",
       "      <td>0.0</td>\n",
       "      <td>0.0</td>\n",
       "      <td>0.0</td>\n",
       "      <td>23.000000</td>\n",
       "      <td>0</td>\n",
       "      <td>0.8468</td>\n",
       "    </tr>\n",
       "    <tr>\n",
       "      <th>1</th>\n",
       "      <td>61.799999</td>\n",
       "      <td>0.0</td>\n",
       "      <td>130.0</td>\n",
       "      <td>90.0</td>\n",
       "      <td>0.0</td>\n",
       "      <td>1.0</td>\n",
       "      <td>0.0</td>\n",
       "      <td>0.0</td>\n",
       "      <td>1.0</td>\n",
       "      <td>30.000000</td>\n",
       "      <td>1</td>\n",
       "      <td>0.7842</td>\n",
       "    </tr>\n",
       "    <tr>\n",
       "      <th>2</th>\n",
       "      <td>45.900002</td>\n",
       "      <td>1.0</td>\n",
       "      <td>110.0</td>\n",
       "      <td>70.0</td>\n",
       "      <td>1.0</td>\n",
       "      <td>0.0</td>\n",
       "      <td>0.0</td>\n",
       "      <td>0.0</td>\n",
       "      <td>1.0</td>\n",
       "      <td>20.799999</td>\n",
       "      <td>0</td>\n",
       "      <td>0.8538</td>\n",
       "    </tr>\n",
       "    <tr>\n",
       "      <th>3</th>\n",
       "      <td>59.599998</td>\n",
       "      <td>0.0</td>\n",
       "      <td>120.0</td>\n",
       "      <td>70.0</td>\n",
       "      <td>1.0</td>\n",
       "      <td>0.0</td>\n",
       "      <td>1.0</td>\n",
       "      <td>0.0</td>\n",
       "      <td>1.0</td>\n",
       "      <td>21.299999</td>\n",
       "      <td>0</td>\n",
       "      <td>0.7443</td>\n",
       "    </tr>\n",
       "    <tr>\n",
       "      <th>4</th>\n",
       "      <td>45.500000</td>\n",
       "      <td>1.0</td>\n",
       "      <td>150.0</td>\n",
       "      <td>90.0</td>\n",
       "      <td>0.0</td>\n",
       "      <td>1.0</td>\n",
       "      <td>0.0</td>\n",
       "      <td>0.0</td>\n",
       "      <td>1.0</td>\n",
       "      <td>23.500000</td>\n",
       "      <td>1</td>\n",
       "      <td>0.8793</td>\n",
       "    </tr>\n",
       "    <tr>\n",
       "      <th>5</th>\n",
       "      <td>57.700001</td>\n",
       "      <td>0.0</td>\n",
       "      <td>130.0</td>\n",
       "      <td>70.0</td>\n",
       "      <td>1.0</td>\n",
       "      <td>0.0</td>\n",
       "      <td>0.0</td>\n",
       "      <td>0.0</td>\n",
       "      <td>0.0</td>\n",
       "      <td>25.900000</td>\n",
       "      <td>1</td>\n",
       "      <td>0.5322</td>\n",
       "    </tr>\n",
       "    <tr>\n",
       "      <th>6</th>\n",
       "      <td>50.099998</td>\n",
       "      <td>1.0</td>\n",
       "      <td>120.0</td>\n",
       "      <td>80.0</td>\n",
       "      <td>0.0</td>\n",
       "      <td>1.0</td>\n",
       "      <td>0.0</td>\n",
       "      <td>0.0</td>\n",
       "      <td>1.0</td>\n",
       "      <td>43.700001</td>\n",
       "      <td>1</td>\n",
       "      <td>0.6292</td>\n",
       "    </tr>\n",
       "    <tr>\n",
       "      <th>7</th>\n",
       "      <td>56.500000</td>\n",
       "      <td>1.0</td>\n",
       "      <td>130.0</td>\n",
       "      <td>85.0</td>\n",
       "      <td>1.0</td>\n",
       "      <td>0.0</td>\n",
       "      <td>0.0</td>\n",
       "      <td>0.0</td>\n",
       "      <td>0.0</td>\n",
       "      <td>28.500000</td>\n",
       "      <td>1</td>\n",
       "      <td>0.5620</td>\n",
       "    </tr>\n",
       "    <tr>\n",
       "      <th>8</th>\n",
       "      <td>50.700001</td>\n",
       "      <td>0.0</td>\n",
       "      <td>120.0</td>\n",
       "      <td>80.0</td>\n",
       "      <td>1.0</td>\n",
       "      <td>0.0</td>\n",
       "      <td>0.0</td>\n",
       "      <td>0.0</td>\n",
       "      <td>0.0</td>\n",
       "      <td>24.400000</td>\n",
       "      <td>0</td>\n",
       "      <td>0.7120</td>\n",
       "    </tr>\n",
       "    <tr>\n",
       "      <th>9</th>\n",
       "      <td>53.299999</td>\n",
       "      <td>0.0</td>\n",
       "      <td>120.0</td>\n",
       "      <td>80.0</td>\n",
       "      <td>1.0</td>\n",
       "      <td>0.0</td>\n",
       "      <td>0.0</td>\n",
       "      <td>0.0</td>\n",
       "      <td>0.0</td>\n",
       "      <td>29.400000</td>\n",
       "      <td>0</td>\n",
       "      <td>0.6122</td>\n",
       "    </tr>\n",
       "  </tbody>\n",
       "</table>\n",
       "</div>"
      ],
      "text/plain": [
       "         age  gender  ap_hi  ap_lo  cholesterol_normal  \\\n",
       "0  47.799999     1.0  100.0   60.0                 1.0   \n",
       "1  61.799999     0.0  130.0   90.0                 0.0   \n",
       "2  45.900002     1.0  110.0   70.0                 1.0   \n",
       "3  59.599998     0.0  120.0   70.0                 1.0   \n",
       "4  45.500000     1.0  150.0   90.0                 0.0   \n",
       "5  57.700001     0.0  130.0   70.0                 1.0   \n",
       "6  50.099998     1.0  120.0   80.0                 0.0   \n",
       "7  56.500000     1.0  130.0   85.0                 1.0   \n",
       "8  50.700001     0.0  120.0   80.0                 1.0   \n",
       "9  53.299999     0.0  120.0   80.0                 1.0   \n",
       "\n",
       "   cholesterol_well above normal  smoke  alco  active        bmi  Label  \\\n",
       "0                            0.0    0.0   0.0     0.0  23.000000      0   \n",
       "1                            1.0    0.0   0.0     1.0  30.000000      1   \n",
       "2                            0.0    0.0   0.0     1.0  20.799999      0   \n",
       "3                            0.0    1.0   0.0     1.0  21.299999      0   \n",
       "4                            1.0    0.0   0.0     1.0  23.500000      1   \n",
       "5                            0.0    0.0   0.0     0.0  25.900000      1   \n",
       "6                            1.0    0.0   0.0     1.0  43.700001      1   \n",
       "7                            0.0    0.0   0.0     0.0  28.500000      1   \n",
       "8                            0.0    0.0   0.0     0.0  24.400000      0   \n",
       "9                            0.0    0.0   0.0     0.0  29.400000      0   \n",
       "\n",
       "    Score  \n",
       "0  0.8468  \n",
       "1  0.7842  \n",
       "2  0.8538  \n",
       "3  0.7443  \n",
       "4  0.8793  \n",
       "5  0.5322  \n",
       "6  0.6292  \n",
       "7  0.5620  \n",
       "8  0.7120  \n",
       "9  0.6122  "
      ]
     },
     "execution_count": 34,
     "metadata": {},
     "output_type": "execute_result"
    }
   ],
   "source": [
    "predict_unseen = predict_model(final_model, data=data_unseen);\n",
    "predict_unseen.head(10)\n"
   ]
  },
  {
   "cell_type": "markdown",
   "metadata": {},
   "source": [
    "### Saving Model "
   ]
  },
  {
   "cell_type": "code",
   "execution_count": 36,
   "metadata": {},
   "outputs": [
    {
     "name": "stdout",
     "output_type": "stream",
     "text": [
      "Transformation Pipeline and Model Successfully Saved\n"
     ]
    },
    {
     "data": {
      "text/plain": [
       "(Pipeline(memory=Memory(location=C:\\Users\\DELL\\AppData\\Local\\Temp\\joblib),\n",
       "          steps=[('numerical_imputer',\n",
       "                  TransformerWrapper(exclude=None,\n",
       "                                     include=['age', 'gender', 'ap_hi', 'ap_lo',\n",
       "                                              'smoke', 'alco', 'active', 'bmi'],\n",
       "                                     transformer=SimpleImputer(add_indicator=False,\n",
       "                                                               copy=True,\n",
       "                                                               fill_value=None,\n",
       "                                                               missing_values=nan,\n",
       "                                                               strategy='mean',\n",
       "                                                               verbose='deprecated'))),\n",
       "                 ('categorical_i...\n",
       "                                                                                                            n_iter_no_change=None,\n",
       "                                                                                                            random_state=20,\n",
       "                                                                                                            subsample=0.55,\n",
       "                                                                                                            tol=0.0001,\n",
       "                                                                                                            validation_fraction=0.1,\n",
       "                                                                                                            verbose=0,\n",
       "                                                                                                            warm_start=False),\n",
       "                                                                  bootstrap=True,\n",
       "                                                                  bootstrap_features=False,\n",
       "                                                                  max_features=1.0,\n",
       "                                                                  max_samples=1.0,\n",
       "                                                                  n_estimators=10,\n",
       "                                                                  n_jobs=None,\n",
       "                                                                  oob_score=False,\n",
       "                                                                  random_state=20,\n",
       "                                                                  verbose=0,\n",
       "                                                                  warm_start=False))],\n",
       "                                   flatten_transform=True, n_jobs=-1,\n",
       "                                   verbose=False, voting='soft',\n",
       "                                   weights=None))],\n",
       "          verbose=False),\n",
       " '../Models/models-v1-11-06-2022.pkl')"
      ]
     },
     "execution_count": 36,
     "metadata": {},
     "output_type": "execute_result"
    }
   ],
   "source": [
    "from datetime import date\n",
    "PATH=\"../Models/\"\n",
    "save_model(final_model, PATH+\"models-v1-\"+date.today().strftime(\"%m-%d-%Y\"))"
   ]
  }
 ],
 "metadata": {
  "kernelspec": {
   "display_name": "Python 3.8.13 ('mlops')",
   "language": "python",
   "name": "python3"
  },
  "language_info": {
   "codemirror_mode": {
    "name": "ipython",
    "version": 3
   },
   "file_extension": ".py",
   "mimetype": "text/x-python",
   "name": "python",
   "nbconvert_exporter": "python",
   "pygments_lexer": "ipython3",
   "version": "3.8.13"
  },
  "papermill": {
   "duration": 1291.942522,
   "end_time": "2020-09-05T12:17:23.890800",
   "environment_variables": {},
   "exception": null,
   "input_path": "__notebook__.ipynb",
   "output_path": "__notebook__.ipynb",
   "parameters": {},
   "start_time": "2020-09-05T11:55:51.948278",
   "version": "2.1.0"
  },
  "vscode": {
   "interpreter": {
    "hash": "27ef5262f76459a8b2e6407f1d8a6bfc152e17646a504596a94b377476f01cc7"
   }
  }
 },
 "nbformat": 4,
 "nbformat_minor": 4
}
